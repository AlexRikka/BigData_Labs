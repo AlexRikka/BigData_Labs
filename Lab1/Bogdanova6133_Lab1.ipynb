{
 "cells": [
  {
   "cell_type": "markdown",
   "id": "cba8f1a8-ea42-44aa-b0da-6a96d513ecd9",
   "metadata": {
    "jp-MarkdownHeadingCollapsed": true,
    "tags": []
   },
   "source": [
    "### Initialization"
   ]
  },
  {
   "cell_type": "code",
   "execution_count": 1,
   "id": "f49fbae0-570c-4d3b-a0f9-0b6fbd43a409",
   "metadata": {},
   "outputs": [],
   "source": [
    "import findspark\n",
    "findspark.init()"
   ]
  },
  {
   "cell_type": "code",
   "execution_count": 2,
   "id": "4fb043e5-2446-41c7-8df0-18261c36f565",
   "metadata": {},
   "outputs": [],
   "source": [
    "from pyspark import SparkContext, SparkConf\n",
    "import pyspark as ps\n",
    "from glob import glob"
   ]
  },
  {
   "cell_type": "code",
   "execution_count": 3,
   "id": "a2226315-11af-4311-8236-73c4af2c89f9",
   "metadata": {},
   "outputs": [],
   "source": [
    "from pyspark.sql import SparkSession\n",
    "import os\n",
    "\n",
    "os.environ['PYSPARK_SUBMIT_ARGS'] = '--packages com.databricks:spark-xml_2.12:0.13.0 pyspark-shell'\n",
    "\n",
    "# Создаем объект SparkSession,точка входа для взаимодействия с оболочкой Spark\n",
    "spark_session = SparkSession\\\n",
    "    .builder\\\n",
    "    .getOrCreate()"
   ]
  },
  {
   "cell_type": "code",
   "execution_count": 4,
   "id": "39619382-d3c4-4a29-b5a3-272673723074",
   "metadata": {},
   "outputs": [
    {
     "data": {
      "text/html": [
       "\n",
       "            <div>\n",
       "                <p><b>SparkSession - in-memory</b></p>\n",
       "                \n",
       "        <div>\n",
       "            <p><b>SparkContext</b></p>\n",
       "\n",
       "            <p><a href=\"http://n1.maapr.xyz:4047\">Spark UI</a></p>\n",
       "\n",
       "            <dl>\n",
       "              <dt>Version</dt>\n",
       "                <dd><code>v3.1.2.0-eep-800</code></dd>\n",
       "              <dt>Master</dt>\n",
       "                <dd><code>yarn</code></dd>\n",
       "              <dt>AppName</dt>\n",
       "                <dd><code>pyspark-shell</code></dd>\n",
       "            </dl>\n",
       "        </div>\n",
       "        \n",
       "            </div>\n",
       "        "
      ],
      "text/plain": [
       "<pyspark.sql.session.SparkSession at 0x7f4b1588bee0>"
      ]
     },
     "execution_count": 4,
     "metadata": {},
     "output_type": "execute_result"
    }
   ],
   "source": [
    "spark_session"
   ]
  },
  {
   "cell_type": "code",
   "execution_count": 5,
   "id": "9d9ec4cf-94af-425c-b6be-55f8c2d40277",
   "metadata": {},
   "outputs": [],
   "source": [
    "# Создаем SparkContext, который устанавливает взаимодействие кластера и resource manager (yarn)\n",
    "sc = spark_session._sc"
   ]
  },
  {
   "cell_type": "markdown",
   "id": "3e9f540b-f867-444c-9678-21076bfcbb41",
   "metadata": {
    "jp-MarkdownHeadingCollapsed": true,
    "tags": []
   },
   "source": [
    "### Введение"
   ]
  },
  {
   "cell_type": "markdown",
   "id": "95e310d7-f72a-4090-9482-6d0e71f74b36",
   "metadata": {
    "tags": []
   },
   "source": [
    "#### Перемещаем файлы в hdfs"
   ]
  },
  {
   "cell_type": "code",
   "execution_count": 7,
   "id": "60f729c5-22e3-4813-a5b3-c35da9d58e0b",
   "metadata": {},
   "outputs": [],
   "source": [
    "!hadoop fs -put data/* data"
   ]
  },
  {
   "cell_type": "markdown",
   "id": "c816e7a6-adba-4619-a202-d44e3d708de5",
   "metadata": {},
   "source": [
    "#### Работа с файлом warandsociety.txt"
   ]
  },
  {
   "cell_type": "code",
   "execution_count": 8,
   "id": "43fc50da-f5ec-4510-8cf0-4f5d8ba37cd2",
   "metadata": {},
   "outputs": [],
   "source": [
    "# create RDD\n",
    "warandpeace = sc.textFile(\"data/warandsociety.txt\")"
   ]
  },
  {
   "cell_type": "code",
   "execution_count": 9,
   "id": "a2c30a5e-93bc-469c-8667-98a6bb403f1a",
   "metadata": {},
   "outputs": [
    {
     "data": {
      "text/plain": [
       "12851"
      ]
     },
     "execution_count": 9,
     "metadata": {},
     "output_type": "execute_result"
    }
   ],
   "source": [
    "# output amountof lines\n",
    "warandpeace.count()"
   ]
  },
  {
   "cell_type": "code",
   "execution_count": 11,
   "id": "3562fdd2-1234-464b-944f-02b7a3f69bb1",
   "metadata": {},
   "outputs": [
    {
     "data": {
      "text/plain": [
       "['Лев Николаевич Толстой',\n",
       " 'Война и мир. Книга 1',\n",
       " '',\n",
       " 'Война и мир – 1',\n",
       " '',\n",
       " ' ',\n",
       " ' http://www.lib.ru',\n",
       " '',\n",
       " 'Аннотация ',\n",
       " '']"
      ]
     },
     "execution_count": 11,
     "metadata": {},
     "output_type": "execute_result"
    }
   ],
   "source": [
    "# show first 10 lines \n",
    "warandpeace.take(10)"
   ]
  },
  {
   "cell_type": "code",
   "execution_count": 17,
   "id": "60cd7bbc-fcad-4124-9bca-95fc3afe5f29",
   "metadata": {},
   "outputs": [
    {
     "data": {
      "text/plain": [
       "2"
      ]
     },
     "execution_count": 17,
     "metadata": {},
     "output_type": "execute_result"
    }
   ],
   "source": [
    "# show number of partitions on cluster\n",
    "warandpeace.getNumPartitions()"
   ]
  },
  {
   "cell_type": "code",
   "execution_count": 24,
   "id": "b2957be4-5cc7-4ea5-91a2-590f78f83429",
   "metadata": {},
   "outputs": [],
   "source": [
    "# find lines that contain word \"war\"\n",
    "linesWithWar = warandpeace.filter(lambda x: \"война\" in x)"
   ]
  },
  {
   "cell_type": "code",
   "execution_count": 25,
   "id": "c9c4f815-6081-4afa-b6e0-f8e6cfdaf04e",
   "metadata": {},
   "outputs": [
    {
     "data": {
      "text/plain": [
       "\"– Еh bien, mon prince. Genes et Lucques ne sont plus que des apanages, des поместья, de la famille Buonaparte. Non, je vous previens, que si vous ne me dites pas, que nous avons la guerre, si vous vous permettez encore de pallier toutes les infamies, toutes les atrocites de cet Antichrist (ma parole, j'y crois) – je ne vous connais plus, vous n'etes plus mon ami, vous n'etes plus мой верный раб, comme vous dites. [Ну, что, князь, Генуа и Лукка стали не больше, как поместьями фамилии Бонапарте. Нет, я вас предупреждаю, если вы мне не скажете, что у нас война, если вы еще позволите себе защищать все гадости, все ужасы этого Антихриста (право, я верю, что он Антихрист) – я вас больше не знаю, вы уж не друг мой, вы уж не мой верный раб, как вы говорите.] Ну, здравствуйте, здравствуйте. Je vois que je vous fais peur, [Я вижу, что я вас пугаю,] садитесь и рассказывайте.\""
      ]
     },
     "execution_count": 25,
     "metadata": {},
     "output_type": "execute_result"
    }
   ],
   "source": [
    "# show first line (till eol)\n",
    "linesWithWar.first()"
   ]
  },
  {
   "cell_type": "code",
   "execution_count": 26,
   "id": "ee6084fe-7d83-4fc6-93da-3bb8b2e2aca6",
   "metadata": {},
   "outputs": [
    {
     "data": {
      "text/plain": [
       "PythonRDD[10] at RDD at PythonRDD.scala:53"
      ]
     },
     "execution_count": 26,
     "metadata": {},
     "output_type": "execute_result"
    }
   ],
   "source": [
    "# move data to cache\n",
    "linesWithWar.cache()"
   ]
  },
  {
   "cell_type": "code",
   "execution_count": 30,
   "id": "083dc9a1-9bac-4a97-ae78-6ccd9506678d",
   "metadata": {},
   "outputs": [
    {
     "name": "stdout",
     "output_type": "stream",
     "text": [
      "CPU times: user 6.01 ms, sys: 10.3 ms, total: 16.3 ms\n",
      "Wall time: 662 ms\n"
     ]
    },
    {
     "data": {
      "text/plain": [
       "54"
      ]
     },
     "execution_count": 30,
     "metadata": {},
     "output_type": "execute_result"
    }
   ],
   "source": [
    "%%time\n",
    "linesWithWar.count()"
   ]
  },
  {
   "cell_type": "code",
   "execution_count": 31,
   "id": "26d55ca4-402b-47e6-938c-c90e9f6bdd66",
   "metadata": {},
   "outputs": [
    {
     "name": "stdout",
     "output_type": "stream",
     "text": [
      "CPU times: user 10.3 ms, sys: 2.71 ms, total: 13 ms\n",
      "Wall time: 151 ms\n"
     ]
    },
    {
     "data": {
      "text/plain": [
       "54"
      ]
     },
     "execution_count": 31,
     "metadata": {},
     "output_type": "execute_result"
    }
   ],
   "source": [
    "%%time\n",
    "linesWithWar.count()"
   ]
  },
  {
   "cell_type": "code",
   "execution_count": 37,
   "id": "c75e0727-86a8-4422-b9b7-945833a992a0",
   "metadata": {},
   "outputs": [],
   "source": [
    "# fing histogramm of words\n",
    "wordCounts = linesWithWar.flatMap(lambda x: map(lambda xx: (xx, 1), x.split(' '))).reduceByKey(lambda a, b: a + b)"
   ]
  },
  {
   "cell_type": "code",
   "execution_count": 40,
   "id": "4f71c6b0-2773-41dc-a738-3a734f380314",
   "metadata": {},
   "outputs": [],
   "source": [
    "wordCounts.saveAsTextFile(\"data/warandpeace_histogram.txt\")"
   ]
  },
  {
   "cell_type": "code",
   "execution_count": null,
   "id": "c1ec4de3-68d1-43a7-945a-75c080c8a5bc",
   "metadata": {},
   "outputs": [],
   "source": [
    "!hadoop fs -cat data/warandpeace_histogram.txt/*"
   ]
  },
  {
   "cell_type": "code",
   "execution_count": 43,
   "id": "c9bdfd20-8489-4914-bc49-b4f7e95713ee",
   "metadata": {},
   "outputs": [
    {
     "data": {
      "text/plain": [
       "['Deleted data/warandpeace_histogram.txt']"
      ]
     },
     "execution_count": 43,
     "metadata": {},
     "output_type": "execute_result"
    }
   ],
   "source": [
    "!!hadoop fs -rm -r data/warandpeace_histogram.txt"
   ]
  },
  {
   "cell_type": "markdown",
   "id": "80710a9c-f803-477c-99b3-23256d05c846",
   "metadata": {
    "tags": []
   },
   "source": [
    "#### Операции с множествами"
   ]
  },
  {
   "cell_type": "code",
   "execution_count": 44,
   "id": "a8eabd6a-7556-4850-ba43-66eeddad93ab",
   "metadata": {},
   "outputs": [],
   "source": [
    "a = sc.parallelize([1,2,3,4])\n",
    "b = sc.parallelize([3,4,6,7])"
   ]
  },
  {
   "cell_type": "code",
   "execution_count": 47,
   "id": "fae119bb-458e-48d2-b2e0-c306a6d44563",
   "metadata": {},
   "outputs": [
    {
     "data": {
      "text/plain": [
       "[1, 2, 3, 4, 3, 4, 6, 7]"
      ]
     },
     "execution_count": 47,
     "metadata": {},
     "output_type": "execute_result"
    }
   ],
   "source": [
    "# find union of a and b, collect it to the driver node\n",
    "a.union(b).collect()"
   ]
  },
  {
   "cell_type": "code",
   "execution_count": 48,
   "id": "2ffdb400-85f7-47ad-9b65-2b03513331b2",
   "metadata": {},
   "outputs": [
    {
     "data": {
      "text/plain": [
       "[4, 1, 2, 6, 3, 7]"
      ]
     },
     "execution_count": 48,
     "metadata": {},
     "output_type": "execute_result"
    }
   ],
   "source": [
    "# remove duplicates\n",
    "a.union(b).distinct().collect()"
   ]
  },
  {
   "cell_type": "markdown",
   "id": "7237d3a7-213f-4a4e-ae11-d2d2b964566c",
   "metadata": {},
   "source": [
    "#### Общие переменные"
   ]
  },
  {
   "cell_type": "code",
   "execution_count": 50,
   "id": "05e77d95-2b39-4e38-91af-5d4efcf12edc",
   "metadata": {},
   "outputs": [],
   "source": [
    "# Общие переменные удобны если вы обращаетесь к небольшому объёму данных на всех узлах.\n",
    "broadcastVar = sc.broadcast([1,2,3])"
   ]
  },
  {
   "cell_type": "code",
   "execution_count": 51,
   "id": "24c11182-adbf-4f7c-8b8d-383d7d26cbae",
   "metadata": {},
   "outputs": [
    {
     "data": {
      "text/plain": [
       "[1, 2, 3]"
      ]
     },
     "execution_count": 51,
     "metadata": {},
     "output_type": "execute_result"
    }
   ],
   "source": [
    "broadcastVar.value"
   ]
  },
  {
   "cell_type": "code",
   "execution_count": 53,
   "id": "e5481e27-6e36-45dc-99cb-295839a54a0f",
   "metadata": {},
   "outputs": [],
   "source": [
    "# Аккумулирующие переменные являются объектами, которые могут быть изменены только ассоциативной операцией добавления. Они используются для эффективной реализации счётчиков и суммарных значений. Вы можете также использовать свой тип, над котором определена ассоциативная операция при необходимости.\n",
    "#Особенностью использования переменной является возможность доступа к значению только на узле в driver процессе.\n",
    "accum = sc.accumulator(0)"
   ]
  },
  {
   "cell_type": "code",
   "execution_count": 54,
   "id": "039b04ca-f433-4c5e-8026-ab05712b40ec",
   "metadata": {},
   "outputs": [],
   "source": [
    "# processing array in || in each task add element to acc value\n",
    "sc.parallelize([1,2,3,4]).foreach(lambda x: accum.add(x))"
   ]
  },
  {
   "cell_type": "code",
   "execution_count": 55,
   "id": "12c31e94-db0f-4040-b05d-2a3cfa95e9da",
   "metadata": {},
   "outputs": [
    {
     "data": {
      "text/plain": [
       "10"
      ]
     },
     "execution_count": 55,
     "metadata": {},
     "output_type": "execute_result"
    }
   ],
   "source": [
    "accum.value"
   ]
  },
  {
   "cell_type": "code",
   "execution_count": 56,
   "id": "34184fe3-146d-44a2-ad87-183d7c660ca5",
   "metadata": {},
   "outputs": [
    {
     "data": {
      "text/plain": [
       "'b'"
      ]
     },
     "execution_count": 56,
     "metadata": {},
     "output_type": "execute_result"
    }
   ],
   "source": [
    "# (key, value)\n",
    "pair = ('a', 'b')\n",
    "pair[1]"
   ]
  },
  {
   "cell_type": "markdown",
   "id": "b7b02b04-4498-42f9-ab0a-9401f67c8d57",
   "metadata": {
    "jp-MarkdownHeadingCollapsed": true,
    "tags": []
   },
   "source": [
    "#### Топ-10 популярных номеров такси"
   ]
  },
  {
   "cell_type": "code",
   "execution_count": 60,
   "id": "51c6e4a5-5927-4b12-857a-d49c0d29637c",
   "metadata": {},
   "outputs": [],
   "source": [
    "# read file to RDD\n",
    "taxi = sc.textFile(\"data/nyctaxi.csv\")"
   ]
  },
  {
   "cell_type": "code",
   "execution_count": 61,
   "id": "adf561c3-ed8d-44df-b513-d8748229f057",
   "metadata": {},
   "outputs": [
    {
     "name": "stdout",
     "output_type": "stream",
     "text": [
      "\"_id\",\"_rev\",\"dropoff_datetime\",\"dropoff_latitude\",\"dropoff_longitude\",\"hack_license\",\"medallion\",\"passenger_count\",\"pickup_datetime\",\"pickup_latitude\",\"pickup_longitude\",\"rate_code\",\"store_and_fwd_flag\",\"trip_distance\",\"trip_time_in_secs\",\"vendor_id\"\n",
      "\"29b3f4a30dea6688d4c289c9672cb996\",\"1-ddfdec8050c7ef4dc694eeeda6c4625e\",\"2013-01-11 22:03:00\",+4.07033460000000E+001,-7.40144200000000E+001,\"A93D1F7F8998FFB75EEF477EB6077516\",\"68BC16A99E915E44ADA7E639B4DD5F59\",2,\"2013-01-11 21:48:00\",+4.06760670000000E+001,-7.39810790000000E+001,1,,+4.08000000000000E+000,900,\"VTS\"\n",
      "\"2a80cfaa425dcec0861e02ae44354500\",\"1-b72234b58a7b0018a1ec5d2ea0797e32\",\"2013-01-11 04:28:00\",+4.08190960000000E+001,-7.39467470000000E+001,\"64CE1B03FDE343BB8DFB512123A525A4\",\"60150AA39B2F654ED6F0C3AF8174A48A\",1,\"2013-01-11 04:07:00\",+4.07280540000000E+001,-7.40020370000000E+001,1,,+8.53000000000000E+000,1260,\"VTS\"\n"
     ]
    }
   ],
   "source": [
    "for t in taxi.take(3):\n",
    "    print(t)"
   ]
  },
  {
   "cell_type": "code",
   "execution_count": 62,
   "id": "0af8c564-d5b4-4948-a58d-07cc5db3204e",
   "metadata": {},
   "outputs": [
    {
     "data": {
      "text/plain": [
       "PythonRDD[52] at RDD at PythonRDD.scala:53"
      ]
     },
     "execution_count": 62,
     "metadata": {},
     "output_type": "execute_result"
    }
   ],
   "source": [
    "import itertools\n",
    "# remove first row that is a title\n",
    "taxi.mapPartitionsWithIndex(lambda idx, it:  itertools.islice(it,1,None) if (idx==0) else it  )"
   ]
  },
  {
   "cell_type": "code",
   "execution_count": 63,
   "id": "5198670b-6f8e-4b13-a091-784c32482b6f",
   "metadata": {},
   "outputs": [],
   "source": [
    "# create RDD where each line is splited into collection of sublines separated by comma\n",
    "taxiParse = taxi.map(lambda line: line.split(\",\"))"
   ]
  },
  {
   "cell_type": "code",
   "execution_count": 64,
   "id": "e1717b39-1f05-401e-afca-0cb4df4e4e56",
   "metadata": {},
   "outputs": [],
   "source": [
    "# array of lines -> (taxi number, 1)\n",
    "taxiMedKey = taxiParse.map(lambda row: (row[6], 1))"
   ]
  },
  {
   "cell_type": "code",
   "execution_count": 65,
   "id": "e3b92cc1-83b5-4d63-9652-5a2720487fff",
   "metadata": {},
   "outputs": [],
   "source": [
    "# -> (taxi number, amount of rides)\n",
    "taxiMedCounts = taxiMedKey.reduceByKey(lambda v1, v2: v1+v2)"
   ]
  },
  {
   "cell_type": "code",
   "execution_count": 69,
   "id": "1f19586b-3ad4-4c9d-8c48-b103955845d3",
   "metadata": {},
   "outputs": [
    {
     "name": "stdout",
     "output_type": "stream",
     "text": [
      "('\"AB44AD9A03B7CFAF3925103BDCC0AF23\"', 44)\n",
      "('\"71CACFBADF9568AAE88A843DB511D172\"', 41)\n",
      "('\"6483B9BFCB216EC88986EA3AB13064E7\"', 41)\n",
      "('\"4C73459B430339981D78795300433438\"', 41)\n",
      "('\"67E71D24AF704D814A0A825005ADA72E\"', 40)\n",
      "('\"02E5A4136FD0A775A023A005A4EABC62\"', 40)\n",
      "('\"9DFBCD218E7116F34C044F0680A0FB8A\"', 39)\n",
      "('\"8DEB70907D00AA1D7FF5E2683240549B\"', 39)\n",
      "('\"7989C2AB3F345F4AB54D3CF1E0480D67\"', 39)\n",
      "('\"6C9F67DF658DC5636F9E7752F203F70A\"', 39)\n"
     ]
    }
   ],
   "source": [
    "top10 = taxiMedCounts.map(lambda x: x[::-1]).top(10)\n",
    "for x in top10:\n",
    "    print(x[::-1])"
   ]
  },
  {
   "cell_type": "code",
   "execution_count": 70,
   "id": "19ce3d4d-f8b4-4c4b-abc8-157904b61a0e",
   "metadata": {},
   "outputs": [],
   "source": [
    "# compact version\n",
    "taxiCounts = taxi.map(lambda line: line.split(\",\")).map(lambda row: (row[6],1)).reduceByKey(lambda a,b: a + b)"
   ]
  },
  {
   "cell_type": "code",
   "execution_count": 73,
   "id": "d3adbeee-11b7-412d-8a7f-ca2b041f32f1",
   "metadata": {},
   "outputs": [
    {
     "data": {
      "text/plain": [
       "PythonRDD[70] at RDD at PythonRDD.scala:53"
      ]
     },
     "execution_count": 73,
     "metadata": {},
     "output_type": "execute_result"
    }
   ],
   "source": [
    "taxiCounts.cache()"
   ]
  },
  {
   "cell_type": "code",
   "execution_count": 74,
   "id": "12eceee2-eb72-48e1-8c5d-cb879cf6e82d",
   "metadata": {},
   "outputs": [
    {
     "name": "stdout",
     "output_type": "stream",
     "text": [
      "CPU times: user 2.16 ms, sys: 9.68 ms, total: 11.8 ms\n",
      "Wall time: 138 ms\n"
     ]
    },
    {
     "data": {
      "text/plain": [
       "13371"
      ]
     },
     "execution_count": 74,
     "metadata": {},
     "output_type": "execute_result"
    }
   ],
   "source": [
    "%%time\n",
    "taxiCounts.count()"
   ]
  },
  {
   "cell_type": "code",
   "execution_count": 75,
   "id": "dceadb26-ae95-49f0-8ee7-405d7d7f4ed4",
   "metadata": {},
   "outputs": [
    {
     "name": "stdout",
     "output_type": "stream",
     "text": [
      "CPU times: user 8.28 ms, sys: 2.79 ms, total: 11.1 ms\n",
      "Wall time: 65.4 ms\n"
     ]
    },
    {
     "data": {
      "text/plain": [
       "13371"
      ]
     },
     "execution_count": 75,
     "metadata": {},
     "output_type": "execute_result"
    }
   ],
   "source": [
    "%%time\n",
    "taxiCounts.count()"
   ]
  },
  {
   "cell_type": "markdown",
   "id": "73e53ebc-c846-4753-b454-264382ad96fc",
   "metadata": {
    "tags": []
   },
   "source": [
    "### Анализ данных велопарковок на языке Python из Jupyter книг:\n",
    "L1_interactive_bike_analysis_python_with_rdd.ipynb, L1_interactive_bike_analysis_python_with_dataframes.ipynb."
   ]
  },
  {
   "cell_type": "markdown",
   "id": "36e52466-10d5-4c85-b398-d6482c82ee24",
   "metadata": {},
   "source": [
    "#### with rdd"
   ]
  },
  {
   "cell_type": "code",
   "execution_count": 9,
   "id": "f0bd6f30-ca13-4b5a-90d4-211f437b4b6a",
   "metadata": {},
   "outputs": [],
   "source": [
    "tripData = sc.textFile(\"data/trips.csv\")\n",
    "# запомним заголовок, чтобы затем его исключить из данных\n",
    "tripsHeader = tripData.first()\n",
    "trips = tripData.filter(lambda row: row != tripsHeader).map(lambda row: row.split(\",\", -1))"
   ]
  },
  {
   "cell_type": "code",
   "execution_count": 10,
   "id": "4cecc0fc-67fa-4599-9a9a-181593c0a16e",
   "metadata": {},
   "outputs": [],
   "source": [
    "stationData = sc.textFile(\"data/stations.csv\")\n",
    "stationsHeader = stationData.first()\n",
    "stations = stationData.filter(lambda row: row != stationsHeader).map(lambda row: row.split(\",\", -1))"
   ]
  },
  {
   "cell_type": "code",
   "execution_count": 11,
   "id": "849f6b99-06b9-4ec0-93c5-5549bc5b8587",
   "metadata": {},
   "outputs": [
    {
     "data": {
      "text/plain": [
       "[['4576',\n",
       "  '63',\n",
       "  '',\n",
       "  'South Van Ness at Market',\n",
       "  '66',\n",
       "  '8/29/2013 14:14',\n",
       "  'South Van Ness at Market',\n",
       "  '66',\n",
       "  '520',\n",
       "  'Subscriber',\n",
       "  '94127']]"
      ]
     },
     "execution_count": 11,
     "metadata": {},
     "output_type": "execute_result"
    }
   ],
   "source": [
    "trips.take(1)"
   ]
  },
  {
   "cell_type": "code",
   "execution_count": 12,
   "id": "c5f8a3ea-0eee-4859-a697-648f29d20b5e",
   "metadata": {},
   "outputs": [
    {
     "data": {
      "text/plain": [
       "[(0, 'id'),\n",
       " (1, 'duration'),\n",
       " (2, 'start_date'),\n",
       " (3, 'start_station_name'),\n",
       " (4, 'start_station_id'),\n",
       " (5, 'end_date'),\n",
       " (6, 'end_station_name'),\n",
       " (7, 'end_station_id'),\n",
       " (8, 'bike_id'),\n",
       " (9, 'subscription_type'),\n",
       " (10, 'zip_code')]"
      ]
     },
     "execution_count": 12,
     "metadata": {},
     "output_type": "execute_result"
    }
   ],
   "source": [
    "list(enumerate(tripsHeader.split(\",\")))"
   ]
  },
  {
   "cell_type": "code",
   "execution_count": 13,
   "id": "b0e446b3-5073-42cb-bc38-2c49fad12832",
   "metadata": {},
   "outputs": [
    {
     "data": {
      "text/plain": [
       "[(0, 'id'),\n",
       " (1, 'name'),\n",
       " (2, 'lat'),\n",
       " (3, 'long'),\n",
       " (4, 'dock_count'),\n",
       " (5, 'city'),\n",
       " (6, 'installation_date')]"
      ]
     },
     "execution_count": 13,
     "metadata": {},
     "output_type": "execute_result"
    }
   ],
   "source": [
    "list(enumerate(stationsHeader.split(\",\")))"
   ]
  },
  {
   "cell_type": "code",
   "execution_count": 14,
   "id": "732857ff-f5c5-4dad-b364-d9ec2bebc3b8",
   "metadata": {},
   "outputs": [],
   "source": [
    "# -> (id, [id, name, ...])\n",
    "stationsIndexed = stations.keyBy(lambda station: station[0])"
   ]
  },
  {
   "cell_type": "code",
   "execution_count": 15,
   "id": "63d3fec1-40c4-495a-81c4-7827dabcaf0d",
   "metadata": {},
   "outputs": [],
   "source": [
    "tripsByStartTerminals = trips.keyBy(lambda trip: trip[4])\n",
    "tripsByEndTerminals = trips.keyBy(lambda trip: trip[7])"
   ]
  },
  {
   "cell_type": "code",
   "execution_count": 16,
   "id": "8ffee443-8713-4123-81a7-4513fd73698e",
   "metadata": {},
   "outputs": [],
   "source": [
    "# join trips and stations by key\n",
    "# (station id, ([station info], [trip info]))\n",
    "startTrips = stationsIndexed.join(tripsByStartTerminals)\n",
    "endTrips = stationsIndexed.join(tripsByEndTerminals)"
   ]
  },
  {
   "cell_type": "code",
   "execution_count": 17,
   "id": "c8f8619e-04be-481e-a55b-3479e8c90b64",
   "metadata": {},
   "outputs": [
    {
     "data": {
      "text/plain": [
       "[('4',\n",
       "  (['4',\n",
       "    'Santa Clara at Almaden',\n",
       "    '37.333988',\n",
       "    '-121.894902',\n",
       "    '11',\n",
       "    'San Jose',\n",
       "    '8/6/2013'],\n",
       "   ['4500',\n",
       "    '109',\n",
       "    '8/29/2013 13:25',\n",
       "    'Santa Clara at Almaden',\n",
       "    '4',\n",
       "    '8/29/2013 13:27',\n",
       "    'Adobe on Almaden',\n",
       "    '5',\n",
       "    '679',\n",
       "    'Subscriber',\n",
       "    '95112']))]"
      ]
     },
     "execution_count": 17,
     "metadata": {},
     "output_type": "execute_result"
    }
   ],
   "source": [
    "startTrips.take(1)"
   ]
  },
  {
   "cell_type": "markdown",
   "id": "1bf75526-1f7e-42f2-89c7-2f3b8fbfac42",
   "metadata": {},
   "source": [
    "Lineage graph (chain of every individual step that happened i.e type of RDD created and method used to create it) shows every step from bottoms up, each change in indentation is an indication of shuffle operation."
   ]
  },
  {
   "cell_type": "code",
   "execution_count": 18,
   "id": "343be2c6-08cb-461e-b6d8-a5f8894fc76e",
   "metadata": {},
   "outputs": [
    {
     "name": "stdout",
     "output_type": "stream",
     "text": [
      "(4) PythonRDD[22] at RDD at PythonRDD.scala:53 []\n",
      " |  MapPartitionsRDD[13] at mapPartitions at PythonRDD.scala:145 []\n",
      " |  ShuffledRDD[12] at partitionBy at NativeMethodAccessorImpl.java:0 []\n",
      " +-(4) PairwiseRDD[11] at join at <ipython-input-16-819cbef38202>:3 []\n",
      "    |  PythonRDD[10] at join at <ipython-input-16-819cbef38202>:3 []\n",
      "    |  UnionRDD[9] at union at NativeMethodAccessorImpl.java:0 []\n",
      "    |  PythonRDD[7] at RDD at PythonRDD.scala:53 []\n",
      "    |  data/stations.csv MapPartitionsRDD[4] at textFile at NativeMethodAccessorImpl.java:0 []\n",
      "    |  data/stations.csv HadoopRDD[3] at textFile at NativeMethodAccessorImpl.java:0 []\n",
      "    |  PythonRDD[8] at RDD at PythonRDD.scala:53 []\n",
      "    |  data/trips.csv MapPartitionsRDD[1] at textFile at NativeMethodAccessorImpl.java:0 []\n",
      "    |  data/trips.csv HadoopRDD[0] at textFile at NativeMethodAccessorImpl.java:0 []\n"
     ]
    }
   ],
   "source": [
    "print(startTrips.toDebugString().decode(\"utf-8\")) "
   ]
  },
  {
   "cell_type": "code",
   "execution_count": 19,
   "id": "f8e6006f-a85b-4527-bf80-7a071e329ab7",
   "metadata": {},
   "outputs": [
    {
     "name": "stdout",
     "output_type": "stream",
     "text": [
      "(4) PythonRDD[23] at RDD at PythonRDD.scala:53 []\n",
      " |  MapPartitionsRDD[20] at mapPartitions at PythonRDD.scala:145 []\n",
      " |  ShuffledRDD[19] at partitionBy at NativeMethodAccessorImpl.java:0 []\n",
      " +-(4) PairwiseRDD[18] at join at <ipython-input-16-819cbef38202>:4 []\n",
      "    |  PythonRDD[17] at join at <ipython-input-16-819cbef38202>:4 []\n",
      "    |  UnionRDD[16] at union at NativeMethodAccessorImpl.java:0 []\n",
      "    |  PythonRDD[14] at RDD at PythonRDD.scala:53 []\n",
      "    |  data/stations.csv MapPartitionsRDD[4] at textFile at NativeMethodAccessorImpl.java:0 []\n",
      "    |  data/stations.csv HadoopRDD[3] at textFile at NativeMethodAccessorImpl.java:0 []\n",
      "    |  PythonRDD[15] at RDD at PythonRDD.scala:53 []\n",
      "    |  data/trips.csv MapPartitionsRDD[1] at textFile at NativeMethodAccessorImpl.java:0 []\n",
      "    |  data/trips.csv HadoopRDD[0] at textFile at NativeMethodAccessorImpl.java:0 []\n"
     ]
    }
   ],
   "source": [
    " print(endTrips.toDebugString().decode(\"utf-8\"))"
   ]
  },
  {
   "cell_type": "code",
   "execution_count": 20,
   "id": "03ca5144-ae3c-4d4a-8b02-e44cdc56fdff",
   "metadata": {},
   "outputs": [
    {
     "data": {
      "text/plain": [
       "669959"
      ]
     },
     "execution_count": 20,
     "metadata": {},
     "output_type": "execute_result"
    }
   ],
   "source": [
    "# number of rows\n",
    "startTrips.count()"
   ]
  },
  {
   "cell_type": "code",
   "execution_count": 21,
   "id": "af750c70-299c-415b-9c4d-f9a0ce76ee01",
   "metadata": {},
   "outputs": [],
   "source": [
    "from pyspark.rdd import portable_hash"
   ]
  },
  {
   "cell_type": "code",
   "execution_count": 22,
   "id": "e532083b-1bad-4b73-b576-37abd24ebc9c",
   "metadata": {},
   "outputs": [
    {
     "data": {
      "text/plain": [
       "MapPartitionsRDD[28] at mapPartitions at PythonRDD.scala:145"
      ]
     },
     "execution_count": 22,
     "metadata": {},
     "output_type": "execute_result"
    }
   ],
   "source": [
    "stationsIndexed.partitionBy(numPartitions=trips.getNumPartitions(), partitionFunc=lambda x: portable_hash(x[0]))"
   ]
  },
  {
   "cell_type": "code",
   "execution_count": 23,
   "id": "b75c39bb-15ba-4ddf-a67d-ea1fecfbf837",
   "metadata": {},
   "outputs": [
    {
     "name": "stdout",
     "output_type": "stream",
     "text": [
      "None\n"
     ]
    }
   ],
   "source": [
    "print(stationsIndexed.partitioner)"
   ]
  },
  {
   "cell_type": "markdown",
   "id": "9352d8a9-1cc2-4ff2-ad14-4a84d33504d9",
   "metadata": {},
   "source": [
    "##### Create a data model\n",
    "Transform original string data into class objects"
   ]
  },
  {
   "cell_type": "code",
   "execution_count": 24,
   "id": "4c638864-6160-48a3-bbc4-7e71c8ed30dd",
   "metadata": {},
   "outputs": [],
   "source": [
    "from typing import NamedTuple\n",
    "from datetime import datetime"
   ]
  },
  {
   "cell_type": "code",
   "execution_count": 25,
   "id": "cb27b4ce-2a22-480c-aef4-7e30e9ccb298",
   "metadata": {},
   "outputs": [],
   "source": [
    " def initStation(stations):\n",
    "    class Station(NamedTuple):\n",
    "        station_id: int\n",
    "        name: str\n",
    "        lat: float\n",
    "        long: float\n",
    "        dockcount: int\n",
    "        landmark: str\n",
    "        installation: str\n",
    "    \n",
    "    for station in stations:\n",
    "        yield Station(\n",
    "            station_id = int(station[0]),\n",
    "            name = station[1],\n",
    "            lat = float(station[2]),\n",
    "            long = float(station[3]),\n",
    "            dockcount = int(station[4]),\n",
    "            landmark = station[5],\n",
    "            installation = datetime.strptime(station[6], '%m/%d/%Y')\n",
    "        )"
   ]
  },
  {
   "cell_type": "code",
   "execution_count": 26,
   "id": "566eabe3-2979-4d4b-88fe-6ac0668e6b80",
   "metadata": {},
   "outputs": [
    {
     "data": {
      "text/plain": [
       "Station(station_id=2, name='San Jose Diridon Caltrain Station', lat=37.329732, long=-121.90178200000001, dockcount=27, landmark='San Jose', installation=datetime.datetime(2013, 8, 6, 0, 0))"
      ]
     },
     "execution_count": 26,
     "metadata": {},
     "output_type": "execute_result"
    }
   ],
   "source": [
    "# runs separately on each partition (block) of the RDD\n",
    "stationsInternal = stations.mapPartitions(initStation)\n",
    "stationsInternal.first()"
   ]
  },
  {
   "cell_type": "code",
   "execution_count": 27,
   "id": "88e417c1-cc3c-4e5d-aa59-cd59fb2edf45",
   "metadata": {},
   "outputs": [],
   "source": [
    "def initTrip(trips):\n",
    "    class Trip(NamedTuple):\n",
    "        trip_id: int\n",
    "        duration: int\n",
    "        start_date: datetime\n",
    "        start_station_name: str\n",
    "        start_station_id: int\n",
    "        end_date: datetime\n",
    "        end_station_name: str\n",
    "        end_station_id: int\n",
    "        bike_id: int\n",
    "        subscription_type: str\n",
    "        zip_code: str\n",
    "        \n",
    "    for trip in trips:\n",
    "        try:\n",
    "            yield Trip(                             \n",
    "             trip_id = int(trip[0]),\n",
    "             duration = int(trip[1]),\n",
    "             start_date = datetime.strptime(trip[2], '%m/%d/%Y %H:%M'),\n",
    "             start_station_name = trip[3],\n",
    "             start_station_id = int(trip[4]),\n",
    "             end_date = datetime.strptime(trip[5], '%m/%d/%Y %H:%M'),\n",
    "             end_station_name = trip[6],\n",
    "             end_station_id = trip[7],\n",
    "             bike_id = int(trip[8]),\n",
    "             subscription_type = trip[9],\n",
    "             zip_code = trip[10]\n",
    "            ) \n",
    "        except:\n",
    "            pass"
   ]
  },
  {
   "cell_type": "code",
   "execution_count": 28,
   "id": "9e72c828-ab4e-44f2-8311-79443546bf6f",
   "metadata": {},
   "outputs": [
    {
     "data": {
      "text/plain": [
       "[Trip(trip_id=4130, duration=71, start_date=datetime.datetime(2013, 8, 29, 10, 16), start_station_name='Mountain View City Hall', start_station_id=27, end_date=datetime.datetime(2013, 8, 29, 10, 17), end_station_name='Mountain View City Hall', end_station_id='27', bike_id=48, subscription_type='Subscriber', zip_code='97214'),\n",
       " Trip(trip_id=4251, duration=77, start_date=datetime.datetime(2013, 8, 29, 11, 29), start_station_name='San Jose City Hall', start_station_id=10, end_date=datetime.datetime(2013, 8, 29, 11, 30), end_station_name='San Jose City Hall', end_station_id='10', bike_id=26, subscription_type='Subscriber', zip_code='95060')]"
      ]
     },
     "execution_count": 28,
     "metadata": {},
     "output_type": "execute_result"
    }
   ],
   "source": [
    "tripsInternal = trips.mapPartitions(initTrip)\n",
    "tripsInternal.take(2)"
   ]
  },
  {
   "cell_type": "markdown",
   "id": "4933b319-883b-4eaa-9e13-ba12619a96a8",
   "metadata": {},
   "source": [
    "Find trip avarage time for each start station:"
   ]
  },
  {
   "cell_type": "code",
   "execution_count": 29,
   "id": "0ee07fe9-4a60-4848-827e-c67391670ceb",
   "metadata": {},
   "outputs": [],
   "source": [
    "# -> (station name, Trip[trip info])\n",
    "tripsByStartStation = tripsInternal.keyBy(lambda trip: trip.start_station_name)"
   ]
  },
  {
   "cell_type": "code",
   "execution_count": 30,
   "id": "0b8cc494-393f-4ada-8984-ef91a414b73e",
   "metadata": {},
   "outputs": [],
   "source": [
    "import sys\n",
    "sys.path.append(\"./.local/lib/python3.9/site-packages/numpy\")\n",
    "import numpy as np"
   ]
  },
  {
   "cell_type": "code",
   "execution_count": 31,
   "id": "b1e91a54-8e5f-4f68-9b52-b6c414c59df2",
   "metadata": {},
   "outputs": [],
   "source": [
    "from pyspark.sql.functions import avg"
   ]
  },
  {
   "cell_type": "code",
   "execution_count": 32,
   "id": "07a11277-3dc0-4d54-a9bb-ebe77d6bd2dd",
   "metadata": {},
   "outputs": [
    {
     "data": {
      "text/plain": [
       "\u001b[0;31mSignature:\u001b[0m\n",
       " \u001b[0mtripsByStartStation\u001b[0m\u001b[0;34m.\u001b[0m\u001b[0maggregateByKey\u001b[0m\u001b[0;34m(\u001b[0m\u001b[0;34m\u001b[0m\n",
       "\u001b[0;34m\u001b[0m    \u001b[0mzeroValue\u001b[0m\u001b[0;34m,\u001b[0m\u001b[0;34m\u001b[0m\n",
       "\u001b[0;34m\u001b[0m    \u001b[0mseqFunc\u001b[0m\u001b[0;34m,\u001b[0m\u001b[0;34m\u001b[0m\n",
       "\u001b[0;34m\u001b[0m    \u001b[0mcombFunc\u001b[0m\u001b[0;34m,\u001b[0m\u001b[0;34m\u001b[0m\n",
       "\u001b[0;34m\u001b[0m    \u001b[0mnumPartitions\u001b[0m\u001b[0;34m=\u001b[0m\u001b[0;32mNone\u001b[0m\u001b[0;34m,\u001b[0m\u001b[0;34m\u001b[0m\n",
       "\u001b[0;34m\u001b[0m    \u001b[0mpartitionFunc\u001b[0m\u001b[0;34m=\u001b[0m\u001b[0;34m<\u001b[0m\u001b[0mfunction\u001b[0m \u001b[0mportable_hash\u001b[0m \u001b[0mat\u001b[0m \u001b[0;36m0x7f4b6cf93040\u001b[0m\u001b[0;34m>\u001b[0m\u001b[0;34m,\u001b[0m\u001b[0;34m\u001b[0m\n",
       "\u001b[0;34m\u001b[0m\u001b[0;34m)\u001b[0m\u001b[0;34m\u001b[0m\u001b[0;34m\u001b[0m\u001b[0m\n",
       "\u001b[0;31mDocstring:\u001b[0m\n",
       "Aggregate the values of each key, using given combine functions and a neutral\n",
       "\"zero value\". This function can return a different result type, U, than the type\n",
       "of the values in this RDD, V. Thus, we need one operation for merging a V into\n",
       "a U and one operation for merging two U's, The former operation is used for merging\n",
       "values within a partition, and the latter is used for merging values between\n",
       "partitions. To avoid memory allocation, both of these functions are\n",
       "allowed to modify and return their first argument instead of creating a new U.\n",
       "\u001b[0;31mFile:\u001b[0m      /opt/mapr/spark/spark-3.1.2/python/pyspark/rdd.py\n",
       "\u001b[0;31mType:\u001b[0m      method\n"
      ]
     },
     "metadata": {},
     "output_type": "display_data"
    }
   ],
   "source": [
    "? tripsByStartStation.aggregateByKey"
   ]
  },
  {
   "cell_type": "code",
   "execution_count": 33,
   "id": "acf87639-f538-425e-a981-95f78c0b343e",
   "metadata": {},
   "outputs": [],
   "source": [
    "def seqFunc(acc, duration):\n",
    "    duration_sum, count = acc\n",
    "    return (duration_sum + duration, count + 1)\n",
    "\n",
    "def combFunc(acc1, acc2):\n",
    "    duration_sum1, count1 = acc1\n",
    "    duration_sum2, count2 = acc2\n",
    "    return (duration_sum1+duration_sum2, count1+count2)\n",
    "\n",
    "def meanFunc(acc):\n",
    "    duration_sum, count = acc\n",
    "    return duration_sum/count\n",
    "\n",
    "avgDurationByStartStation2 = tripsByStartStation\\\n",
    "  .mapValues(lambda trip: trip.duration)\\\n",
    "  .aggregateByKey(\n",
    "    zeroValue=(0,0),\n",
    "    seqFunc=seqFunc,\n",
    "    combFunc=combFunc)\\\n",
    "  .mapValues(meanFunc)"
   ]
  },
  {
   "cell_type": "code",
   "execution_count": 34,
   "id": "194b28d9-01f0-4145-ad4a-42ec2c41fab5",
   "metadata": {},
   "outputs": [
    {
     "name": "stdout",
     "output_type": "stream",
     "text": [
      "CPU times: user 10.8 ms, sys: 6.76 ms, total: 17.6 ms\n",
      "Wall time: 17.8 s\n"
     ]
    },
    {
     "data": {
      "text/plain": [
       "[('University and Emerson', 7090.239417989418),\n",
       " ('California Ave Caltrain Station', 4628.005847953216),\n",
       " ('Redwood City Public Library', 4579.234741784037),\n",
       " ('Park at Olive', 4438.1613333333335),\n",
       " ('San Jose Civic Center', 4208.016938519448),\n",
       " ('Rengstorff Avenue / California Street', 4174.082373782108),\n",
       " ('Redwood City Medical Center', 3959.491961414791),\n",
       " ('Palo Alto Caltrain Station', 3210.6489815253435),\n",
       " ('San Mateo County Center', 2716.7700348432054),\n",
       " ('Broadway at Main', 2481.2537313432836)]"
      ]
     },
     "execution_count": 34,
     "metadata": {},
     "output_type": "execute_result"
    }
   ],
   "source": [
    "%%time\n",
    "avgDurationByStartStation2.top(10, key=lambda x: x[1])"
   ]
  },
  {
   "cell_type": "markdown",
   "id": "a911ff58-2667-45df-a053-009f8451c6d8",
   "metadata": {},
   "source": [
    "Find the first trip for each station:"
   ]
  },
  {
   "cell_type": "code",
   "execution_count": 35,
   "id": "73b60253-6c7c-44e5-a1fd-aa702b74b6d6",
   "metadata": {},
   "outputs": [],
   "source": [
    " def earliestTrip(trips):\n",
    "    if trips is None:\n",
    "        return None\n",
    "    if len(trips)==0:\n",
    "        return trips\n",
    "    trips = list(trips)\n",
    "    min_date = trips[0].start_date\n",
    "    min_trip = trips[0]\n",
    "    for trip in trips[1:]:\n",
    "        if min_date > trip.start_date:\n",
    "            min_date = trip.start_date\n",
    "            min_trip = trip\n",
    "    return min_trip\n",
    "\n",
    "firstGrouped = tripsByStartStation\\\n",
    "  .groupByKey()\\\n",
    "  .mapValues(lambda trips: earliestTrip(trips))"
   ]
  },
  {
   "cell_type": "code",
   "execution_count": 36,
   "id": "2a890132-5ab9-4c6e-a005-68fe8eebbc42",
   "metadata": {},
   "outputs": [
    {
     "name": "stdout",
     "output_type": "stream",
     "text": [
      "CPU times: user 12 ms, sys: 3.74 ms, total: 15.8 ms\n",
      "Wall time: 27 s\n"
     ]
    },
    {
     "data": {
      "text/plain": [
       "[('Mountain View City Hall',\n",
       "  Trip(trip_id=4081, duration=218, start_date=datetime.datetime(2013, 8, 29, 9, 38), start_station_name='Mountain View City Hall', start_station_id=27, end_date=datetime.datetime(2013, 8, 29, 9, 41), end_station_name='Mountain View City Hall', end_station_id='27', bike_id=150, subscription_type='Subscriber', zip_code='97214')),\n",
       " ('Santa Clara at Almaden',\n",
       "  Trip(trip_id=4500, duration=109, start_date=datetime.datetime(2013, 8, 29, 13, 25), start_station_name='Santa Clara at Almaden', start_station_id=4, end_date=datetime.datetime(2013, 8, 29, 13, 27), end_station_name='Adobe on Almaden', end_station_id='5', bike_id=679, subscription_type='Subscriber', zip_code='95112')),\n",
       " ('Mountain View Caltrain Station',\n",
       "  Trip(trip_id=4505, duration=97713, start_date=datetime.datetime(2013, 8, 29, 13, 30), start_station_name='Mountain View Caltrain Station', start_station_id=28, end_date=datetime.datetime(2013, 8, 30, 16, 38), end_station_name='Mountain View City Hall', end_station_id='27', bike_id=141, subscription_type='Subscriber', zip_code='94039')),\n",
       " ('2nd at South Park',\n",
       "  Trip(trip_id=4069, duration=174, start_date=datetime.datetime(2013, 8, 29, 9, 8), start_station_name='2nd at South Park', start_station_id=64, end_date=datetime.datetime(2013, 8, 29, 9, 11), end_station_name='2nd at South Park', end_station_id='64', bike_id=288, subscription_type='Subscriber', zip_code='94114')),\n",
       " ('Clay at Battery',\n",
       "  Trip(trip_id=4283, duration=1712, start_date=datetime.datetime(2013, 8, 29, 11, 55), start_station_name='Clay at Battery', start_station_id=41, end_date=datetime.datetime(2013, 8, 29, 12, 23), end_station_name='Harry Bridges Plaza (Ferry Building)', end_station_id='50', bike_id=544, subscription_type='Subscriber', zip_code='94070'))]"
      ]
     },
     "execution_count": 36,
     "metadata": {},
     "output_type": "execute_result"
    }
   ],
   "source": [
    "%%time\n",
    "firstGrouped.take(5)"
   ]
  },
  {
   "cell_type": "code",
   "execution_count": 37,
   "id": "cd1ed71f-dd6f-451e-9d33-f7b75e07f125",
   "metadata": {},
   "outputs": [],
   "source": [
    "firstGrouped = tripsByStartStation\\\n",
    "  .reduceByKey(lambda tripA, tripB: tripA if tripA.start_date < tripB.start_date else tripB)"
   ]
  },
  {
   "cell_type": "code",
   "execution_count": 38,
   "id": "61eaecd5-c8c0-4f02-9f7e-47d1a948a9fe",
   "metadata": {},
   "outputs": [
    {
     "name": "stdout",
     "output_type": "stream",
     "text": [
      "CPU times: user 962 µs, sys: 12.7 ms, total: 13.7 ms\n",
      "Wall time: 17 s\n"
     ]
    },
    {
     "data": {
      "text/plain": [
       "[('Mountain View City Hall',\n",
       "  Trip(trip_id=4081, duration=218, start_date=datetime.datetime(2013, 8, 29, 9, 38), start_station_name='Mountain View City Hall', start_station_id=27, end_date=datetime.datetime(2013, 8, 29, 9, 41), end_station_name='Mountain View City Hall', end_station_id='27', bike_id=150, subscription_type='Subscriber', zip_code='97214')),\n",
       " ('Santa Clara at Almaden',\n",
       "  Trip(trip_id=4500, duration=109, start_date=datetime.datetime(2013, 8, 29, 13, 25), start_station_name='Santa Clara at Almaden', start_station_id=4, end_date=datetime.datetime(2013, 8, 29, 13, 27), end_station_name='Adobe on Almaden', end_station_id='5', bike_id=679, subscription_type='Subscriber', zip_code='95112')),\n",
       " ('Mountain View Caltrain Station',\n",
       "  Trip(trip_id=4505, duration=97713, start_date=datetime.datetime(2013, 8, 29, 13, 30), start_station_name='Mountain View Caltrain Station', start_station_id=28, end_date=datetime.datetime(2013, 8, 30, 16, 38), end_station_name='Mountain View City Hall', end_station_id='27', bike_id=141, subscription_type='Subscriber', zip_code='94039')),\n",
       " ('2nd at South Park',\n",
       "  Trip(trip_id=4069, duration=174, start_date=datetime.datetime(2013, 8, 29, 9, 8), start_station_name='2nd at South Park', start_station_id=64, end_date=datetime.datetime(2013, 8, 29, 9, 11), end_station_name='2nd at South Park', end_station_id='64', bike_id=288, subscription_type='Subscriber', zip_code='94114')),\n",
       " ('Clay at Battery',\n",
       "  Trip(trip_id=4283, duration=1712, start_date=datetime.datetime(2013, 8, 29, 11, 55), start_station_name='Clay at Battery', start_station_id=41, end_date=datetime.datetime(2013, 8, 29, 12, 23), end_station_name='Harry Bridges Plaza (Ferry Building)', end_station_id='50', bike_id=544, subscription_type='Subscriber', zip_code='94070'))]"
      ]
     },
     "execution_count": 38,
     "metadata": {},
     "output_type": "execute_result"
    }
   ],
   "source": [
    "%%time\n",
    "\n",
    "firstGrouped.take(5)"
   ]
  },
  {
   "cell_type": "markdown",
   "id": "da885512-8734-499e-8a25-b967fed84d5f",
   "metadata": {},
   "source": [
    "#### with dataframes"
   ]
  },
  {
   "cell_type": "code",
   "execution_count": 39,
   "id": "62950756-9abe-4236-a6fe-64e502475077",
   "metadata": {},
   "outputs": [
    {
     "data": {
      "text/plain": [
       "DataFrame[id: int, duration: int, start_date: timestamp, start_station_name: string, start_station_id: int, end_date: timestamp, end_station_name: string, end_station_id: int, bike_id: int, subscription_type: string, zip_code: string]"
      ]
     },
     "execution_count": 39,
     "metadata": {},
     "output_type": "execute_result"
    }
   ],
   "source": [
    "tripData = spark_session.read\\\n",
    ".option(\"header\", True)\\\n",
    ".option(\"inferSchema\", True)\\\n",
    ".option(\"timestampFormat\", 'M/d/y H:m')\\\n",
    ".csv(\"data/trips.csv\")\n",
    "\n",
    "tripData"
   ]
  },
  {
   "cell_type": "code",
   "execution_count": 40,
   "id": "9a44a70a-1ed3-477f-ab13-617ef1bea3a3",
   "metadata": {},
   "outputs": [
    {
     "name": "stdout",
     "output_type": "stream",
     "text": [
      "root\n",
      " |-- id: integer (nullable = true)\n",
      " |-- duration: integer (nullable = true)\n",
      " |-- start_date: timestamp (nullable = true)\n",
      " |-- start_station_name: string (nullable = true)\n",
      " |-- start_station_id: integer (nullable = true)\n",
      " |-- end_date: timestamp (nullable = true)\n",
      " |-- end_station_name: string (nullable = true)\n",
      " |-- end_station_id: integer (nullable = true)\n",
      " |-- bike_id: integer (nullable = true)\n",
      " |-- subscription_type: string (nullable = true)\n",
      " |-- zip_code: string (nullable = true)\n",
      "\n"
     ]
    }
   ],
   "source": [
    " tripData.printSchema()"
   ]
  },
  {
   "cell_type": "code",
   "execution_count": 41,
   "id": "135ed79d-3e97-4a3d-a12c-677a4e350da9",
   "metadata": {},
   "outputs": [
    {
     "name": "stdout",
     "output_type": "stream",
     "text": [
      "+----+--------+-------------------+--------------------+----------------+-------------------+--------------------+--------------+-------+-----------------+--------+\n",
      "|  id|duration|         start_date|  start_station_name|start_station_id|           end_date|    end_station_name|end_station_id|bike_id|subscription_type|zip_code|\n",
      "+----+--------+-------------------+--------------------+----------------+-------------------+--------------------+--------------+-------+-----------------+--------+\n",
      "|4576|      63|               null|South Van Ness at...|              66|2013-08-29 14:14:00|South Van Ness at...|            66|    520|       Subscriber|   94127|\n",
      "|4607|    null|2013-08-29 14:42:00|  San Jose City Hall|              10|2013-08-29 14:43:00|  San Jose City Hall|            10|    661|       Subscriber|   95138|\n",
      "|4130|      71|2013-08-29 10:16:00|Mountain View Cit...|              27|2013-08-29 10:17:00|Mountain View Cit...|            27|     48|       Subscriber|   97214|\n",
      "+----+--------+-------------------+--------------------+----------------+-------------------+--------------------+--------------+-------+-----------------+--------+\n",
      "only showing top 3 rows\n",
      "\n"
     ]
    }
   ],
   "source": [
    " tripData.show(n=3)"
   ]
  },
  {
   "cell_type": "code",
   "execution_count": 42,
   "id": "c580adb6-79f2-4d66-80f5-45185d310e18",
   "metadata": {},
   "outputs": [
    {
     "data": {
      "text/plain": [
       "\u001b[0;31mSignature:\u001b[0m  \u001b[0mtripData\u001b[0m\u001b[0;34m.\u001b[0m\u001b[0mdropna\u001b[0m\u001b[0;34m(\u001b[0m\u001b[0mhow\u001b[0m\u001b[0;34m=\u001b[0m\u001b[0;34m'any'\u001b[0m\u001b[0;34m,\u001b[0m \u001b[0mthresh\u001b[0m\u001b[0;34m=\u001b[0m\u001b[0;32mNone\u001b[0m\u001b[0;34m,\u001b[0m \u001b[0msubset\u001b[0m\u001b[0;34m=\u001b[0m\u001b[0;32mNone\u001b[0m\u001b[0;34m)\u001b[0m\u001b[0;34m\u001b[0m\u001b[0;34m\u001b[0m\u001b[0m\n",
       "\u001b[0;31mDocstring:\u001b[0m\n",
       "Returns a new :class:`DataFrame` omitting rows with null values.\n",
       ":func:`DataFrame.dropna` and :func:`DataFrameNaFunctions.drop` are aliases of each other.\n",
       "\n",
       ".. versionadded:: 1.3.1\n",
       "\n",
       "Parameters\n",
       "----------\n",
       "how : str, optional\n",
       "    'any' or 'all'.\n",
       "    If 'any', drop a row if it contains any nulls.\n",
       "    If 'all', drop a row only if all its values are null.\n",
       "thresh: int, optional\n",
       "    default None\n",
       "    If specified, drop rows that have less than `thresh` non-null values.\n",
       "    This overwrites the `how` parameter.\n",
       "subset : str, tuple or list, optional\n",
       "    optional list of column names to consider.\n",
       "\n",
       "Examples\n",
       "--------\n",
       ">>> df4.na.drop().show()\n",
       "+---+------+-----+\n",
       "|age|height| name|\n",
       "+---+------+-----+\n",
       "| 10|    80|Alice|\n",
       "+---+------+-----+\n",
       "\u001b[0;31mFile:\u001b[0m      /opt/mapr/spark/spark-3.1.2/python/pyspark/sql/dataframe.py\n",
       "\u001b[0;31mType:\u001b[0m      method\n"
      ]
     },
     "metadata": {},
     "output_type": "display_data"
    }
   ],
   "source": [
    "? tripData.dropna"
   ]
  },
  {
   "cell_type": "code",
   "execution_count": 43,
   "id": "f20578a8-95dd-417a-ac8c-419560e24c1c",
   "metadata": {},
   "outputs": [
    {
     "name": "stdout",
     "output_type": "stream",
     "text": [
      "root\n",
      " |-- id: integer (nullable = true)\n",
      " |-- name: string (nullable = true)\n",
      " |-- lat: double (nullable = true)\n",
      " |-- long: double (nullable = true)\n",
      " |-- dock_count: integer (nullable = true)\n",
      " |-- city: string (nullable = true)\n",
      " |-- installation_date: timestamp (nullable = true)\n",
      "\n",
      "+---+--------------------+---------+-------------------+----------+--------+-------------------+\n",
      "| id|                name|      lat|               long|dock_count|    city|  installation_date|\n",
      "+---+--------------------+---------+-------------------+----------+--------+-------------------+\n",
      "|  2|San Jose Diridon ...|37.329732|-121.90178200000001|        27|San Jose|2013-08-06 00:00:00|\n",
      "|  3|San Jose Civic Ce...|37.330698|        -121.888979|        15|San Jose|2013-08-05 00:00:00|\n",
      "|  4|Santa Clara at Al...|37.333988|        -121.894902|        11|San Jose|2013-08-06 00:00:00|\n",
      "+---+--------------------+---------+-------------------+----------+--------+-------------------+\n",
      "only showing top 3 rows\n",
      "\n"
     ]
    }
   ],
   "source": [
    "stationData = spark_session.read\\\n",
    ".option(\"header\", True)\\\n",
    ".option(\"inferSchema\", True)\\\n",
    ".option(\"timestampFormat\", 'M/d/y')\\\n",
    ".csv(\"data/stations.csv\")\n",
    "\n",
    "stationData.printSchema()\n",
    "stationData.show(n=3)"
   ]
  },
  {
   "cell_type": "markdown",
   "id": "3e1737e5-14bd-484d-a8b0-f1134f80d10d",
   "metadata": {},
   "source": [
    "#### DataFrame API usage example"
   ]
  },
  {
   "cell_type": "code",
   "execution_count": 44,
   "id": "18554c41-858d-45fc-83ce-17d62d06e90d",
   "metadata": {},
   "outputs": [
    {
     "name": "stdout",
     "output_type": "stream",
     "text": [
      "+---+--------------------+------------------+-------------------+\n",
      "| id|                name|               lat|               long|\n",
      "+---+--------------------+------------------+-------------------+\n",
      "|  2|San Jose Diridon ...|         37.329732|-121.90178200000001|\n",
      "|  3|San Jose Civic Ce...|         37.330698|        -121.888979|\n",
      "|  4|Santa Clara at Al...|         37.333988|        -121.894902|\n",
      "|  5|    Adobe on Almaden|         37.331415|          -121.8932|\n",
      "|  6|    San Pedro Square|37.336721000000004|        -121.894074|\n",
      "|  7|Paseo de San Antonio|         37.333798|-121.88694299999999|\n",
      "|  8| San Salvador at 1st|         37.330165|-121.88583100000001|\n",
      "|  9|           Japantown|         37.348742|-121.89471499999999|\n",
      "| 10|  San Jose City Hall|         37.337391|        -121.886995|\n",
      "| 11|         MLK Library|         37.335885|-121.88566000000002|\n",
      "| 12|SJSU 4th at San C...|         37.332808|-121.88389099999999|\n",
      "| 13|       St James Park|         37.339301|-121.88993700000002|\n",
      "| 14|Arena Green / SAP...|         37.332692|        -121.900084|\n",
      "| 16|SJSU - San Salvad...|37.333954999999996|        -121.877349|\n",
      "| 21|   Franklin at Maple|         37.481758|        -122.226904|\n",
      "| 22|Redwood City Calt...|37.486078000000006|-122.23208899999999|\n",
      "| 23|San Mateo County ...|37.487615999999996|        -122.229951|\n",
      "| 24|Redwood City Publ...|         37.484219|        -122.227424|\n",
      "| 25|Stanford in Redwo...|          37.48537|-122.20328799999999|\n",
      "| 26|Redwood City Medi...|         37.487682|        -122.223492|\n",
      "+---+--------------------+------------------+-------------------+\n",
      "only showing top 20 rows\n",
      "\n"
     ]
    }
   ],
   "source": [
    "stationsView = stationData.select(stationData['id'], stationData['name'], stationData['lat'], stationData['long'])\n",
    "stationsView.show()"
   ]
  },
  {
   "cell_type": "code",
   "execution_count": 45,
   "id": "782e256b-5089-4c41-9149-a4c30b6a1e77",
   "metadata": {},
   "outputs": [],
   "source": [
    "startTrips = tripData.select(tripData.id, tripData.duration, tripData.start_station_id).withColumnRenamed('id', 'trip_id').join(stationsView, tripData.start_station_id == stationsView.id)\n",
    "startTrips = startTrips.drop('id') "
   ]
  },
  {
   "cell_type": "code",
   "execution_count": 46,
   "id": "4b8320ee-aea0-4554-a3c9-3f35cf2e1686",
   "metadata": {},
   "outputs": [
    {
     "name": "stdout",
     "output_type": "stream",
     "text": [
      "+-------+--------+----------------+--------------------+------------------+-------------------+\n",
      "|trip_id|duration|start_station_id|                name|               lat|               long|\n",
      "+-------+--------+----------------+--------------------+------------------+-------------------+\n",
      "|   4576|      63|              66|South Van Ness at...|         37.774814|        -122.418954|\n",
      "|   4607|    null|              10|  San Jose City Hall|         37.337391|        -121.886995|\n",
      "|   4130|      71|              27|Mountain View Cit...|         37.389218|        -122.081896|\n",
      "|   4251|      77|              10|  San Jose City Hall|         37.337391|        -121.886995|\n",
      "|   4299|      83|              66|South Van Ness at...|         37.774814|        -122.418954|\n",
      "|   4927|     103|              59| Golden Gate at Polk|         37.781332|        -122.418603|\n",
      "|   4500|     109|               4|Santa Clara at Al...|         37.333988|        -121.894902|\n",
      "|   4563|     111|               8| San Salvador at 1st|         37.330165|-121.88583100000001|\n",
      "|   4760|     113|              66|South Van Ness at...|         37.774814|        -122.418954|\n",
      "|   4258|     114|              10|  San Jose City Hall|         37.337391|        -121.886995|\n",
      "|   4549|     125|              49|     Spear at Folsom|37.790302000000004|-122.39063700000001|\n",
      "|   4498|     126|               6|    San Pedro Square|37.336721000000004|        -121.894074|\n",
      "|   4965|     129|              28|Mountain View Cal...|37.394358000000004|-122.07671299999998|\n",
      "|   4557|     130|              64|   2nd at South Park|         37.782259|        -122.392738|\n",
      "|   4386|     134|              41|     Clay at Battery|         37.795001|         -122.39997|\n",
      "|   4749|     138|              47|     Post at Kearney|         37.788975|        -122.403452|\n",
      "|   4242|     141|              10|  San Jose City Hall|         37.337391|        -121.886995|\n",
      "|   4329|     142|              67|      Market at 10th|37.776619000000004|-122.41738500000001|\n",
      "|   5097|     142|              74|   Steuart at Market|         37.794139|        -122.394434|\n",
      "|   5084|     144|              39|  Powell Street BART|37.783871000000005|        -122.408433|\n",
      "+-------+--------+----------------+--------------------+------------------+-------------------+\n",
      "only showing top 20 rows\n",
      "\n"
     ]
    }
   ],
   "source": [
    " startTrips.show()"
   ]
  },
  {
   "cell_type": "markdown",
   "id": "eb6712d9-1579-43a9-bf03-9dbdb0fe778a",
   "metadata": {},
   "source": [
    "## Tasks\n",
    "Набор данных: данные велопарковок Сан-Франциско (trips.csv, stations.csv)\n",
    "\n",
    "1. Найти велосипед с максимальным временем пробега.  \n",
    "2. Найти наибольшее геодезическое расстояние между станциями.  \n",
    "3. Найти путь велосипеда с максимальным временем пробега через станции.  \n",
    "4. Найти количество велосипедов в системе.  \n",
    "5. Найти пользователей потративших на поездки более 3 часов.  "
   ]
  },
  {
   "cell_type": "markdown",
   "id": "7009a49e-f25f-4015-ae8d-4a1eda799843",
   "metadata": {
    "tags": []
   },
   "source": [
    "### 1 Найти велосипед с максимальным временем пробега."
   ]
  },
  {
   "cell_type": "code",
   "execution_count": 197,
   "id": "05e979bb-81ef-4d07-9d08-bd5d2e3a97a2",
   "metadata": {},
   "outputs": [
    {
     "data": {
      "text/plain": [
       "pyspark.rdd.PipelinedRDD"
      ]
     },
     "execution_count": 197,
     "metadata": {},
     "output_type": "execute_result"
    }
   ],
   "source": [
    "type(tripsInternal)"
   ]
  },
  {
   "cell_type": "code",
   "execution_count": 198,
   "id": "6d36e18f-6f40-4ed4-9368-a5cfb50a4186",
   "metadata": {},
   "outputs": [],
   "source": [
    "# -> (bike_id, Trip[])\n",
    "# -> (bike_id, one of duration)\n",
    "# -> (bike_id, sum of durations)\n",
    "tmp1 = tripsInternal\\\n",
    "    .keyBy(lambda x: x.bike_id)\\\n",
    "    .mapValues(lambda x: x.duration)\\\n",
    "    .reduceByKey(lambda x, y: x+y)"
   ]
  },
  {
   "cell_type": "code",
   "execution_count": 199,
   "id": "b5a96604-09d1-47bf-8dd7-10fb2d7f76d8",
   "metadata": {},
   "outputs": [
    {
     "data": {
      "text/plain": [
       "[(18611693, 535)]"
      ]
     },
     "execution_count": 199,
     "metadata": {},
     "output_type": "execute_result"
    }
   ],
   "source": [
    "tmp2 = tmp1.map(lambda x: x[::-1]).top(1)\n",
    "tmp2"
   ]
  },
  {
   "cell_type": "code",
   "execution_count": 200,
   "id": "06685cc7-8e91-4b95-b77d-0b49c6d734cb",
   "metadata": {},
   "outputs": [
    {
     "name": "stdout",
     "output_type": "stream",
     "text": [
      "Answer (bike id):  535\n"
     ]
    }
   ],
   "source": [
    "print(\"Answer (bike id): \", tmp2[0][1])"
   ]
  },
  {
   "cell_type": "markdown",
   "id": "b1524741-2f37-45df-9cd1-23e2b9ba80db",
   "metadata": {
    "jp-MarkdownHeadingCollapsed": true,
    "tags": []
   },
   "source": [
    "### 2 Найти наибольшее геодезическое расстояние между станциями."
   ]
  },
  {
   "cell_type": "markdown",
   "id": "090e51ab-4982-4dec-a0f5-af306fa17642",
   "metadata": {},
   "source": [
    "Distance from a to b = d* R  \n",
    "d = arccos(COS(a.Latitude)* COS(b.Latitude)* COS(a.Longitude - b.Longitude) + SIN(a.Latitude)* SIN(b.Latitude))  \n",
    "R = 6371 км — средний радиус земного шара  \n",
    "from http://osiktakan.ru/geo_koor.htm"
   ]
  },
  {
   "cell_type": "code",
   "execution_count": 161,
   "id": "7d71deac-7f5d-46f5-9413-2671283efb54",
   "metadata": {},
   "outputs": [],
   "source": [
    "import numpy as np"
   ]
  },
  {
   "cell_type": "code",
   "execution_count": 193,
   "id": "8c141bd9-a3e0-4b49-ba7e-3f24c29312f8",
   "metadata": {},
   "outputs": [],
   "source": [
    "def distance(a, b):\n",
    "    a_lat = a[0]\n",
    "    a_long = a[1]\n",
    "    b_lat = b[0]\n",
    "    b_long = b[1]\n",
    "    delta = a_long - b_long\n",
    "    return 111.111*np.arccos(np.cos(a_lat)*np.cos(b_lat)*np.cos(delta) + np.sin(a_lat)*np.sin(b_lat))"
   ]
  },
  {
   "cell_type": "code",
   "execution_count": 180,
   "id": "eb87615e-787a-489d-8b8a-5df7e63af30d",
   "metadata": {},
   "outputs": [],
   "source": [
    "stationscoord = stationsView.rdd\\\n",
    "    .keyBy(lambda x: (x.name))\\\n",
    "    .mapValues(lambda x: (x.lat, x.long))"
   ]
  },
  {
   "cell_type": "code",
   "execution_count": 181,
   "id": "dd750bb9-5bed-47dc-8a5a-c5f3c564431a",
   "metadata": {},
   "outputs": [],
   "source": [
    "# rdd\n",
    "grid = stationscoord.cartesian(stationscoord)"
   ]
  },
  {
   "cell_type": "code",
   "execution_count": 182,
   "id": "37ad6ef2-7b54-4e7f-908a-84590613ddb9",
   "metadata": {},
   "outputs": [
    {
     "data": {
      "text/plain": [
       "[(('San Jose Diridon Caltrain Station', (37.329732, -121.90178200000001)),\n",
       "  ('San Jose Diridon Caltrain Station', (37.329732, -121.90178200000001)))]"
      ]
     },
     "execution_count": 182,
     "metadata": {},
     "output_type": "execute_result"
    }
   ],
   "source": [
    "grid.take(1)"
   ]
  },
  {
   "cell_type": "code",
   "execution_count": 183,
   "id": "6fe7d83d-896c-4b8b-a33a-d216d458cc79",
   "metadata": {},
   "outputs": [],
   "source": [
    "# -> ((station1, station2), (coord1, coord2))\n",
    "routes = grid\\\n",
    "    .keyBy(lambda x: (x[0][0], x[1][0]))\\\n",
    "    .mapValues(lambda x: (x[0][1], x[1][1]))"
   ]
  },
  {
   "cell_type": "code",
   "execution_count": 184,
   "id": "5f2ba460-310e-40c5-bbf5-77395134ec33",
   "metadata": {},
   "outputs": [
    {
     "data": {
      "text/plain": [
       "[(('San Jose Diridon Caltrain Station', 'San Jose Diridon Caltrain Station'),\n",
       "  ((37.329732, -121.90178200000001), (37.329732, -121.90178200000001)))]"
      ]
     },
     "execution_count": 184,
     "metadata": {},
     "output_type": "execute_result"
    }
   ],
   "source": [
    "routes.take(1)"
   ]
  },
  {
   "cell_type": "code",
   "execution_count": 187,
   "id": "ce3d84ea-8623-411b-9ed4-a331425276d2",
   "metadata": {},
   "outputs": [],
   "source": [
    "# (station: x[0][], coord: x[1][])\n",
    "distances = routes.mapValues(lambda x: distance(x[0], x[1]))"
   ]
  },
  {
   "cell_type": "code",
   "execution_count": 188,
   "id": "01cf9b28-438d-4a0b-a639-73235266488d",
   "metadata": {},
   "outputs": [
    {
     "data": {
      "text/plain": [
       "[(('San Jose Diridon Caltrain Station', 'San Jose Diridon Caltrain Station'),\n",
       "  0.0),\n",
       " (('San Jose Diridon Caltrain Station', 'San Jose Civic Center'),\n",
       "  1.3311857254441992),\n",
       " (('San Jose Diridon Caltrain Station', 'Santa Clara at Almaden'),\n",
       "  0.8559554481844344),\n",
       " (('San Jose Diridon Caltrain Station', 'Adobe on Almaden'),\n",
       "  0.9089709851794548)]"
      ]
     },
     "execution_count": 188,
     "metadata": {},
     "output_type": "execute_result"
    }
   ],
   "source": [
    "distances.take(4)"
   ]
  },
  {
   "cell_type": "code",
   "execution_count": 190,
   "id": "158784a0-48af-45ee-84c3-f209fdb6c263",
   "metadata": {},
   "outputs": [],
   "source": [
    "ans = distances.map(lambda x: x[1]).top(1)"
   ]
  },
  {
   "cell_type": "code",
   "execution_count": 192,
   "id": "3a163ccc-4a7b-4d4f-92fd-aa646eb7a03a",
   "metadata": {},
   "outputs": [
    {
     "name": "stdout",
     "output_type": "stream",
     "text": [
      "Answer (max distance): [77.63109804183553] km\n"
     ]
    }
   ],
   "source": [
    "print(f\"Answer (max distance): {ans} km\") "
   ]
  },
  {
   "cell_type": "markdown",
   "id": "75cf6cf4-115b-4c37-84e2-6511057279e0",
   "metadata": {},
   "source": [
    "### 3 Найти путь велосипеда с максимальным временем пробега через станции."
   ]
  },
  {
   "cell_type": "code",
   "execution_count": 195,
   "id": "31bd8b51-6e11-41a4-bd9d-20d3e2731381",
   "metadata": {},
   "outputs": [
    {
     "data": {
      "text/plain": [
       "[Trip(trip_id=4130, duration=71, start_date=datetime.datetime(2013, 8, 29, 10, 16), start_station_name='Mountain View City Hall', start_station_id=27, end_date=datetime.datetime(2013, 8, 29, 10, 17), end_station_name='Mountain View City Hall', end_station_id='27', bike_id=48, subscription_type='Subscriber', zip_code='97214')]"
      ]
     },
     "execution_count": 195,
     "metadata": {},
     "output_type": "execute_result"
    }
   ],
   "source": [
    "tripsInternal.take(1)"
   ]
  },
  {
   "cell_type": "code",
   "execution_count": 210,
   "id": "5f53b501-9eeb-400d-8d5b-ca9f370ac4b5",
   "metadata": {},
   "outputs": [],
   "source": [
    "# tmp2[0][1] - id велосипеда с макс временем пробега из задания1\n",
    "path = tripsInternal\\\n",
    "    .filter(lambda x: x.bike_id == tmp2[0][1])\\\n",
    "    .keyBy(lambda x: x.start_date)\\\n",
    "    .sortByKey()"
   ]
  },
  {
   "cell_type": "code",
   "execution_count": 211,
   "id": "9bd40c62-b610-4207-ad72-d661e6d3a3d5",
   "metadata": {},
   "outputs": [
    {
     "data": {
      "text/plain": [
       "[(datetime.datetime(2013, 8, 29, 19, 32),\n",
       "  Trip(trip_id=4966, duration=1245, start_date=datetime.datetime(2013, 8, 29, 19, 32), start_station_name='Post at Kearney', start_station_id=47, end_date=datetime.datetime(2013, 8, 29, 19, 53), end_station_name='San Francisco Caltrain (Townsend at 4th)', end_station_id='70', bike_id=535, subscription_type='Customer', zip_code='94123')),\n",
       " (datetime.datetime(2013, 8, 29, 21, 38),\n",
       "  Trip(trip_id=5067, duration=423, start_date=datetime.datetime(2013, 8, 29, 21, 38), start_station_name='San Francisco Caltrain (Townsend at 4th)', start_station_id=70, end_date=datetime.datetime(2013, 8, 29, 21, 45), end_station_name='San Francisco Caltrain 2 (330 Townsend)', end_station_id='69', bike_id=535, subscription_type='Subscriber', zip_code='94133'))]"
      ]
     },
     "execution_count": 211,
     "metadata": {},
     "output_type": "execute_result"
    }
   ],
   "source": [
    "path.take(2)"
   ]
  },
  {
   "cell_type": "code",
   "execution_count": 212,
   "id": "44309ffb-a908-4607-8ea5-6fe99e78580b",
   "metadata": {},
   "outputs": [],
   "source": [
    "path_stations = path.map(lambda x: (x[1].start_station_name, x[1].end_station_name))"
   ]
  },
  {
   "cell_type": "code",
   "execution_count": 218,
   "id": "44d5088c-a0c8-4781-a0c0-1ec6603d0731",
   "metadata": {},
   "outputs": [
    {
     "data": {
      "text/plain": [
       "[('Post at Kearney', 'San Francisco Caltrain (Townsend at 4th)'),\n",
       " ('San Francisco Caltrain (Townsend at 4th)',\n",
       "  'San Francisco Caltrain 2 (330 Townsend)'),\n",
       " ('San Francisco Caltrain 2 (330 Townsend)', 'Market at Sansome'),\n",
       " ('Market at Sansome', '2nd at South Park'),\n",
       " ('2nd at Townsend', 'Davis at Jackson'),\n",
       " ('San Francisco City Hall', 'Civic Center BART (7th at Market)'),\n",
       " ('Civic Center BART (7th at Market)', 'Post at Kearney'),\n",
       " ('Post at Kearney', 'Embarcadero at Sansome'),\n",
       " ('Embarcadero at Sansome', 'Washington at Kearney'),\n",
       " ('Washington at Kearney', 'Market at Sansome')]"
      ]
     },
     "execution_count": 218,
     "metadata": {},
     "output_type": "execute_result"
    }
   ],
   "source": [
    "path_stations.collect()[:10]"
   ]
  },
  {
   "cell_type": "markdown",
   "id": "0ae28b19-1868-4495-a73b-931bbd681231",
   "metadata": {},
   "source": [
    "### 4 Найти количество велосипедов в системе."
   ]
  },
  {
   "cell_type": "code",
   "execution_count": 219,
   "id": "5a0de6c5-e3cf-4dd6-959b-1135c8dfa7fc",
   "metadata": {},
   "outputs": [
    {
     "data": {
      "text/plain": [
       "700"
      ]
     },
     "execution_count": 219,
     "metadata": {},
     "output_type": "execute_result"
    }
   ],
   "source": [
    "tripsInternal.map(lambda x: x.bike_id).distinct().count()"
   ]
  },
  {
   "cell_type": "markdown",
   "id": "45503844-7d6b-47d0-8212-0cba935c7554",
   "metadata": {},
   "source": [
    "### 5 Найти пользователей потративших на поездки более 3 часов."
   ]
  },
  {
   "cell_type": "code",
   "execution_count": 228,
   "id": "f51aae79-dab5-40d7-ac7d-fa0bb78157d9",
   "metadata": {},
   "outputs": [],
   "source": [
    "period = 3*3600 \n",
    "# let trip_id = user_id\n",
    "users = tripsInternal\\\n",
    "    .filter(lambda x: x.duration > period)\\\n",
    "    .map(lambda x: x.trip_id)"
   ]
  },
  {
   "cell_type": "code",
   "execution_count": 231,
   "id": "e1963edb-4474-4b0f-82ce-102d2493d240",
   "metadata": {},
   "outputs": [
    {
     "name": "stdout",
     "output_type": "stream",
     "text": [
      "Answer (trip ids): [4639, 4637, 4528, 4363, 4193, 4190, 4225, 4663, 4532, 4521] ...\n"
     ]
    }
   ],
   "source": [
    "print(f\"Answer (trip ids): {users.take(10)} ...\")"
   ]
  },
  {
   "cell_type": "code",
   "execution_count": 232,
   "id": "feff166b-8d70-4e2f-87dd-7af96ba67993",
   "metadata": {},
   "outputs": [],
   "source": [
    "sc.stop()"
   ]
  }
 ],
 "metadata": {
  "kernelspec": {
   "display_name": "Python 3",
   "language": "python",
   "name": "python3"
  },
  "language_info": {
   "codemirror_mode": {
    "name": "ipython",
    "version": 3
   },
   "file_extension": ".py",
   "mimetype": "text/x-python",
   "name": "python",
   "nbconvert_exporter": "python",
   "pygments_lexer": "ipython3",
   "version": "3.9.5"
  }
 },
 "nbformat": 4,
 "nbformat_minor": 5
}
