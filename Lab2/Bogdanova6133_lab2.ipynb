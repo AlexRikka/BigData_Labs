{
 "cells": [
  {
   "cell_type": "markdown",
   "id": "0f97ed3b-1ddb-4265-83cc-8029be6331b3",
   "metadata": {
    "tags": []
   },
   "source": [
    "### Задание\n",
    "Сформировать отчёт с информацией о 10 наиболее популярных языках программирования по итогам года за период с 2010 по 2020 годы. Отчёт будет отражать динамику изменения популярности языков программирования и представлять собой набор таблиц \"топ-10\" для каждого года.\n",
    "Получившийся отчёт сохранить в формате Apache Parquet.\n",
    "\n",
    "Набор данных:\n",
    "- выборка данных posts_sample.xml (из stackoverflow.com-Posts.7z),\n",
    "- файл со списком языков programming-languages.csv, собранных с вики-страницы"
   ]
  },
  {
   "cell_type": "code",
   "execution_count": 1,
   "id": "db87088e-e05c-4985-a62a-b5daf0eacaa3",
   "metadata": {},
   "outputs": [],
   "source": [
    "import findspark\n",
    "findspark.init()"
   ]
  },
  {
   "cell_type": "code",
   "execution_count": 2,
   "id": "b2ca09d4-a9d1-4035-88d8-f14dd418e367",
   "metadata": {},
   "outputs": [],
   "source": [
    "from datetime import datetime\n",
    "from pyspark.sql.functions import *\n",
    "from pyspark.sql.types import StructType, StructField, StringType, DateType"
   ]
  },
  {
   "cell_type": "code",
   "execution_count": 3,
   "id": "8c18f9b6-bc12-42ae-b108-cadaa43247dc",
   "metadata": {},
   "outputs": [],
   "source": [
    "from pyspark.sql import SparkSession\n",
    "import os\n",
    "\n",
    "os.environ['PYSPARK_SUBMIT_ARGS'] = '--packages com.databricks:spark-xml_2.12:0.13.0 pyspark-shell'\n",
    "\n",
    "# Создаем объект SparkSession,точка входа для взаимодействия с оболочкой Spark\n",
    "spark_session = SparkSession\\\n",
    "    .builder\\\n",
    "    .getOrCreate()"
   ]
  },
  {
   "cell_type": "code",
   "execution_count": 4,
   "id": "d3dfdc48-9ec4-4107-97e5-d53c8575c845",
   "metadata": {},
   "outputs": [
    {
     "data": {
      "text/html": [
       "\n",
       "            <div>\n",
       "                <p><b>SparkSession - in-memory</b></p>\n",
       "                \n",
       "        <div>\n",
       "            <p><b>SparkContext</b></p>\n",
       "\n",
       "            <p><a href=\"http://n1.maapr.xyz:4047\">Spark UI</a></p>\n",
       "\n",
       "            <dl>\n",
       "              <dt>Version</dt>\n",
       "                <dd><code>v3.1.2.0-eep-800</code></dd>\n",
       "              <dt>Master</dt>\n",
       "                <dd><code>yarn</code></dd>\n",
       "              <dt>AppName</dt>\n",
       "                <dd><code>pyspark-shell</code></dd>\n",
       "            </dl>\n",
       "        </div>\n",
       "        \n",
       "            </div>\n",
       "        "
      ],
      "text/plain": [
       "<pyspark.sql.session.SparkSession at 0x7f7b1015e490>"
      ]
     },
     "execution_count": 4,
     "metadata": {},
     "output_type": "execute_result"
    }
   ],
   "source": [
    "spark_session"
   ]
  },
  {
   "cell_type": "code",
   "execution_count": 7,
   "id": "28c058b8-dde2-4de7-8d54-107199fe6689",
   "metadata": {},
   "outputs": [],
   "source": [
    "# Создаем SparkContext, который устанавливает взаимодействие кластера и resource manager (yarn)\n",
    "sc = spark_session._sc"
   ]
  },
  {
   "cell_type": "markdown",
   "id": "2d3e0c53-224a-4a41-9ad9-fffbc36386e3",
   "metadata": {},
   "source": [
    "#### Перемещаем файлы в hdfs"
   ]
  },
  {
   "cell_type": "code",
   "execution_count": null,
   "id": "7a9d16f8-85dd-461c-b24f-4b4834429d8b",
   "metadata": {},
   "outputs": [],
   "source": [
    "!hadoop fs -put programming-languages.csv data/programming-languages.csv"
   ]
  },
  {
   "cell_type": "code",
   "execution_count": null,
   "id": "6eaa1216-bf45-4306-9e6e-3426c2afb057",
   "metadata": {},
   "outputs": [],
   "source": [
    "!hadoop fs -put posts_sample.xml data/posts_sample.xml"
   ]
  },
  {
   "cell_type": "markdown",
   "id": "59b840fb-c8d7-4e64-8af7-a47504f785e8",
   "metadata": {},
   "source": [
    "#### Считываем данные из файлов"
   ]
  },
  {
   "cell_type": "code",
   "execution_count": 8,
   "id": "4c406021-59ae-468f-b641-5981daf944eb",
   "metadata": {},
   "outputs": [],
   "source": [
    "# Создаем схему, определяюшие колонки для DataFrame\n",
    "proglang_schema = StructType([StructField(\"name\", StringType(), False),\n",
    "    StructField(\"wikipedia_url\", StringType(), False)]) "
   ]
  },
  {
   "cell_type": "code",
   "execution_count": 9,
   "id": "54ac788d-e942-463d-aff4-11eba4d5169a",
   "metadata": {},
   "outputs": [],
   "source": [
    "# Считываем данные из файла в DataFrame\n",
    "proglang_df = spark_session.read.csv(\"data/programming-languages.csv\", schema=proglang_schema)"
   ]
  },
  {
   "cell_type": "code",
   "execution_count": 10,
   "id": "ca9e97cb-05e8-4010-b8ce-3953426d5fb8",
   "metadata": {},
   "outputs": [
    {
     "data": {
      "text/plain": [
       "[Row(name='name', wikipedia_url='wikipedia_url'),\n",
       " Row(name='A# .NET', wikipedia_url='https://en.wikipedia.org/wiki/A_Sharp_(.NET)'),\n",
       " Row(name='A# (Axiom)', wikipedia_url='https://en.wikipedia.org/wiki/A_Sharp_(Axiom)')]"
      ]
     },
     "execution_count": 10,
     "metadata": {},
     "output_type": "execute_result"
    }
   ],
   "source": [
    "# Show first rows from DataFrame\n",
    "proglang_df.head(3)"
   ]
  },
  {
   "cell_type": "code",
   "execution_count": 11,
   "id": "9285933d-f74c-4c0b-8d3c-3c69e3a579bb",
   "metadata": {},
   "outputs": [
    {
     "data": {
      "text/plain": [
       "'name'"
      ]
     },
     "execution_count": 11,
     "metadata": {},
     "output_type": "execute_result"
    }
   ],
   "source": [
    "# Создаем list с названиями языков\n",
    "proglang_names = [col['name'] for col in proglang_df.collect()]\n",
    "proglang_names.pop(0)"
   ]
  },
  {
   "cell_type": "code",
   "execution_count": 12,
   "id": "8978eba5-a42f-47a6-8b5f-cd19ccbe5732",
   "metadata": {},
   "outputs": [
    {
     "data": {
      "text/plain": [
       "['A# .NET', 'A# (Axiom)', 'A-0 System']"
      ]
     },
     "execution_count": 12,
     "metadata": {},
     "output_type": "execute_result"
    }
   ],
   "source": [
    "proglang_names[:3]"
   ]
  },
  {
   "cell_type": "code",
   "execution_count": 13,
   "id": "e02af6b2-b26b-463d-b986-5dd4a068be87",
   "metadata": {},
   "outputs": [],
   "source": [
    "# Считываем данные из файла в DataFrame\n",
    "posts_sample_df = spark_session.read.format(\"xml\").options(rowTag=\"row\").load('data/posts_sample.xml')"
   ]
  },
  {
   "cell_type": "code",
   "execution_count": 14,
   "id": "d0931feb-0b5e-4840-b79a-7a080804daf5",
   "metadata": {},
   "outputs": [
    {
     "data": {
      "text/plain": [
       "[Row(_AcceptedAnswerId=7, _AnswerCount=13, _Body=\"<p>I want to use a track-bar to change a form's opacity.</p>\\n\\n<p>This is my code:</p>\\n\\n<pre><code>decimal trans = trackBar1.Value / 5000;\\nthis.Opacity = trans;\\n</code></pre>\\n\\n<p>When I build the application, it gives the following error:</p>\\n\\n<blockquote>\\n  <p>Cannot implicitly convert type <code>'decimal'</code> to <code>'double'</code></p>\\n</blockquote>\\n\\n<p>I tried using <code>trans</code> and <code>double</code> but then the control doesn't work. This code worked fine in a past VB.NET project.</p>\\n\", _ClosedDate=None, _CommentCount=2, _CommunityOwnedDate=datetime.datetime(2012, 10, 31, 20, 42, 47, 213000), _CreationDate=datetime.datetime(2008, 8, 1, 2, 42, 52, 667000), _FavoriteCount=48, _Id=4, _LastActivityDate=datetime.datetime(2019, 7, 19, 5, 39, 54, 173000), _LastEditDate=datetime.datetime(2019, 7, 19, 5, 39, 54, 173000), _LastEditorDisplayName='Rich B', _LastEditorUserId=3641067, _OwnerDisplayName=None, _OwnerUserId=8, _ParentId=None, _PostTypeId=1, _Score=630, _Tags='<c#><floating-point><type-conversion><double><decimal>', _Title='Convert Decimal to Double?', _ViewCount=42817)]"
      ]
     },
     "execution_count": 14,
     "metadata": {},
     "output_type": "execute_result"
    }
   ],
   "source": [
    "# Show first rows from DataFrame\n",
    "posts_sample_df.head(1)"
   ]
  },
  {
   "cell_type": "markdown",
   "id": "15b1ea42-aed2-4bf9-bea4-53e0d10db45e",
   "metadata": {},
   "source": [
    "Названия языков в posts_samples указываются в колонке Tags. Чтобы определить популярность языка, посчитаем количество постов с соответсвующим ему тэгом. Год создания поста указан в теге(колонке) CreationDate."
   ]
  },
  {
   "cell_type": "markdown",
   "id": "4dd6c631-b434-43db-a45a-e82a5200c0ba",
   "metadata": {},
   "source": [
    "#### Находим список топ-10 языков для каждого года"
   ]
  },
  {
   "cell_type": "code",
   "execution_count": 15,
   "id": "8826c321-19fa-49f6-86e1-1e9880bab850",
   "metadata": {},
   "outputs": [],
   "source": [
    "def check_date(row, year):\n",
    "    fromdate = datetime(year=year, month=1, day=1)\n",
    "    tilldate = datetime(year=year, month=12, day=31)\n",
    "    created_date = row._CreationDate\n",
    "    return created_date >= fromdate and created_date <= tilldate"
   ]
  },
  {
   "cell_type": "code",
   "execution_count": 16,
   "id": "7487746f-9edd-496f-a202-670f4a3fe062",
   "metadata": {},
   "outputs": [],
   "source": [
    "def check_language(row):\n",
    "    lang_tag = None\n",
    "    for lang in proglang_names:\n",
    "        if '<' + lang.lower() + '>' in row._Tags.lower():\n",
    "            lang_tag = lang\n",
    "            break\n",
    "    if lang_tag is None:\n",
    "        return None\n",
    "    return (row._Id, lang_tag)"
   ]
  },
  {
   "cell_type": "code",
   "execution_count": 21,
   "id": "b629f193-8186-462b-9081-fa70dce9b661",
   "metadata": {},
   "outputs": [],
   "source": [
    "top_languages_dict = {}\n",
    "years = range(2010, 2020)\n",
    "for year in years:\n",
    "    '''\n",
    "    Choose rows with certain year that have some data in Tag,\n",
    "    map it to (id of post, language),\n",
    "    remove rows where language wasn't mentioned,\n",
    "    change key -> (language, id of post),\n",
    "    (language, id of post) -> (language, number of posts with these language) \n",
    "        within single partiotion, then it's merged into one across partitions,\n",
    "    languages are sorted by number of posts in descending order,\n",
    "    convert it to DataFrame\n",
    "    '''\n",
    "    top_langs = posts_sample_df.rdd\\\n",
    "        .filter(lambda row: row._Tags is not None and check_date(row, year))\\\n",
    "        .map(check_language)\\\n",
    "        .filter(lambda row: row is not None)\\\n",
    "        .keyBy(lambda row: row[1])\\\n",
    "        .aggregateByKey(\n",
    "            0,\n",
    "            lambda acc, value: acc + 1,\n",
    "            lambda acc1, acc2: acc1 + acc2,\n",
    "        )\\\n",
    "        .sortBy(lambda row: row[1], ascending=False)\\\n",
    "        .toDF()\n",
    "    top_langs = top_langs.select(col('_1').alias(f'Top-10_languages'))\n",
    "    top_languages_dict[year] = top_langs.limit(10)"
   ]
  },
  {
   "cell_type": "markdown",
   "id": "0eebde81-a48e-4896-aba2-0a74e242350e",
   "metadata": {},
   "source": [
    "#### Записываем таблицы в файлы parquet"
   ]
  },
  {
   "cell_type": "code",
   "execution_count": 22,
   "id": "cc83596c-160a-4a27-a871-ea661ef00c25",
   "metadata": {},
   "outputs": [],
   "source": [
    "for year in top_languages_dict.keys():\n",
    "    top_languages_dict[year].write.format(\"parquet\").save(f\"output/top_programming_languages_{year}\")"
   ]
  },
  {
   "cell_type": "markdown",
   "id": "b7024f59-cf3b-4d53-9a17-0742ee2d7e6f",
   "metadata": {},
   "source": [
    "#### Считываем файлы parquet, чтобы вывести результаты"
   ]
  },
  {
   "cell_type": "code",
   "execution_count": 23,
   "id": "13cd487e-1282-416a-96f7-deadac059a2c",
   "metadata": {},
   "outputs": [
    {
     "name": "stdout",
     "output_type": "stream",
     "text": [
      "2010\n",
      "+----------------+\n",
      "|Top-10_languages|\n",
      "+----------------+\n",
      "|            Java|\n",
      "|      JavaScript|\n",
      "|             PHP|\n",
      "|          Python|\n",
      "|     Objective-C|\n",
      "|               C|\n",
      "|            Ruby|\n",
      "|          Delphi|\n",
      "|     AppleScript|\n",
      "|               R|\n",
      "+----------------+\n",
      "\n",
      "2011\n",
      "+----------------+\n",
      "|Top-10_languages|\n",
      "+----------------+\n",
      "|             PHP|\n",
      "|            Java|\n",
      "|      JavaScript|\n",
      "|          Python|\n",
      "|     Objective-C|\n",
      "|               C|\n",
      "|            Ruby|\n",
      "|            Perl|\n",
      "|          Delphi|\n",
      "|            Bash|\n",
      "+----------------+\n",
      "\n",
      "2012\n",
      "+----------------+\n",
      "|Top-10_languages|\n",
      "+----------------+\n",
      "|             PHP|\n",
      "|      JavaScript|\n",
      "|            Java|\n",
      "|          Python|\n",
      "|     Objective-C|\n",
      "|               C|\n",
      "|            Ruby|\n",
      "|            Bash|\n",
      "|               R|\n",
      "|          MATLAB|\n",
      "+----------------+\n",
      "\n",
      "2013\n",
      "+----------------+\n",
      "|Top-10_languages|\n",
      "+----------------+\n",
      "|      JavaScript|\n",
      "|            Java|\n",
      "|             PHP|\n",
      "|          Python|\n",
      "|     Objective-C|\n",
      "|               C|\n",
      "|            Ruby|\n",
      "|               R|\n",
      "|            Bash|\n",
      "|           Scala|\n",
      "+----------------+\n",
      "\n",
      "2014\n",
      "+----------------+\n",
      "|Top-10_languages|\n",
      "+----------------+\n",
      "|      JavaScript|\n",
      "|            Java|\n",
      "|             PHP|\n",
      "|          Python|\n",
      "|               C|\n",
      "|     Objective-C|\n",
      "|               R|\n",
      "|            Ruby|\n",
      "|          MATLAB|\n",
      "|            Bash|\n",
      "+----------------+\n",
      "\n",
      "2015\n",
      "+----------------+\n",
      "|Top-10_languages|\n",
      "+----------------+\n",
      "|      JavaScript|\n",
      "|            Java|\n",
      "|             PHP|\n",
      "|          Python|\n",
      "|               R|\n",
      "|               C|\n",
      "|     Objective-C|\n",
      "|            Ruby|\n",
      "|          MATLAB|\n",
      "|           Scala|\n",
      "+----------------+\n",
      "\n",
      "2016\n",
      "+----------------+\n",
      "|Top-10_languages|\n",
      "+----------------+\n",
      "|      JavaScript|\n",
      "|            Java|\n",
      "|          Python|\n",
      "|             PHP|\n",
      "|               R|\n",
      "|               C|\n",
      "|            Ruby|\n",
      "|            Bash|\n",
      "|           Scala|\n",
      "|          MATLAB|\n",
      "+----------------+\n",
      "\n",
      "2017\n",
      "+----------------+\n",
      "|Top-10_languages|\n",
      "+----------------+\n",
      "|      JavaScript|\n",
      "|            Java|\n",
      "|          Python|\n",
      "|             PHP|\n",
      "|               R|\n",
      "|               C|\n",
      "|     Objective-C|\n",
      "|            Ruby|\n",
      "|      PowerShell|\n",
      "|      TypeScript|\n",
      "+----------------+\n",
      "\n",
      "2018\n",
      "+----------------+\n",
      "|Top-10_languages|\n",
      "+----------------+\n",
      "|          Python|\n",
      "|      JavaScript|\n",
      "|            Java|\n",
      "|             PHP|\n",
      "|               R|\n",
      "|               C|\n",
      "|           Scala|\n",
      "|      TypeScript|\n",
      "|      PowerShell|\n",
      "|            Bash|\n",
      "+----------------+\n",
      "\n",
      "2019\n",
      "+----------------+\n",
      "|Top-10_languages|\n",
      "+----------------+\n",
      "|          Python|\n",
      "|      JavaScript|\n",
      "|            Java|\n",
      "|             PHP|\n",
      "|               R|\n",
      "|               C|\n",
      "|          MATLAB|\n",
      "|              Go|\n",
      "|          Kotlin|\n",
      "|            Dart|\n",
      "+----------------+\n",
      "\n"
     ]
    }
   ],
   "source": [
    "for year in range(2010, 2020):\n",
    "    print(year)\n",
    "    df = spark_session.read.format(\"parquet\").load(f\"output/top_programming_languages_{year}\")\n",
    "    df.show()"
   ]
  },
  {
   "cell_type": "code",
   "execution_count": null,
   "id": "3b46f43e-1ace-4f1c-8c2c-1b5b91559ba2",
   "metadata": {},
   "outputs": [],
   "source": []
  }
 ],
 "metadata": {
  "kernelspec": {
   "display_name": "Python 3",
   "language": "python",
   "name": "python3"
  },
  "language_info": {
   "codemirror_mode": {
    "name": "ipython",
    "version": 3
   },
   "file_extension": ".py",
   "mimetype": "text/x-python",
   "name": "python",
   "nbconvert_exporter": "python",
   "pygments_lexer": "ipython3",
   "version": "3.9.5"
  }
 },
 "nbformat": 4,
 "nbformat_minor": 5
}
