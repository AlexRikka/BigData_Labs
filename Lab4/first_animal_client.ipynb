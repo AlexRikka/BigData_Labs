{
 "cells": [
  {
   "cell_type": "code",
   "execution_count": 1,
   "metadata": {
    "scrolled": false
   },
   "outputs": [],
   "source": [
    "import logging\n",
    "logging.basicConfig()\n",
    "from kazoo.client import KazooClient"
   ]
  },
  {
   "cell_type": "code",
   "execution_count": 2,
   "metadata": {},
   "outputs": [],
   "source": [
    "class Animal: \n",
    "    def __init__(self, name: str, hostPort: int, root: str, partySize: int):\n",
    "        self.name = name\n",
    "        self.root = root\n",
    "        self.animalPath = f'{root}/{name}'\n",
    "        self.partySize = partySize\n",
    "        self.zk = KazooClient(hosts=f'127.0.0.1:{hostPort}')\n",
    "        self.zk.start()\n",
    "\n",
    "        @self.zk.ChildrenWatch('/zoo')\n",
    "        def watch_node(children):\n",
    "            print(f'Children are now: {children}')\n",
    "            if len(children) < self.partySize:\n",
    "                print('Waiting for the others.')\n",
    "            elif len(children) == self.partySize:\n",
    "                print('Zoo is full.')\n",
    "\n",
    "    def enter(self):\n",
    "        self.zk.create(self.animalPath, ephemeral=True)\n",
    "        print(f'{self.name} entered.')\n",
    "\n",
    "    def leave(self):\n",
    "        self.zk.delete(self.animalPath)\n",
    "        self.zk.stop()"
   ]
  },
  {
   "cell_type": "code",
   "execution_count": 3,
   "metadata": {},
   "outputs": [],
   "source": [
    "zk = KazooClient()\n",
    "zk.start()"
   ]
  },
  {
   "cell_type": "code",
   "execution_count": 18,
   "metadata": {},
   "outputs": [
    {
     "data": {
      "text/plain": [
       "'/zoo'"
      ]
     },
     "execution_count": 18,
     "metadata": {},
     "output_type": "execute_result"
    }
   ],
   "source": [
    "zk.create(path=\"/zoo\", value=b\"first_version\")"
   ]
  },
  {
   "cell_type": "code",
   "execution_count": 4,
   "metadata": {},
   "outputs": [
    {
     "name": "stdout",
     "output_type": "stream",
     "text": [
      "Children are now: []\n",
      "Waiting for the others.\n"
     ]
    }
   ],
   "source": [
    "animal = Animal('human1', 2181, '/zoo', 2)"
   ]
  },
  {
   "cell_type": "code",
   "execution_count": 5,
   "metadata": {},
   "outputs": [
    {
     "name": "stdout",
     "output_type": "stream",
     "text": [
      "human1 entered.\n",
      "Children are now: ['human1']\n",
      "Waiting for the others.\n"
     ]
    }
   ],
   "source": [
    "animal.enter()"
   ]
  },
  {
   "cell_type": "code",
   "execution_count": 6,
   "metadata": {},
   "outputs": [
    {
     "name": "stdout",
     "output_type": "stream",
     "text": [
      "Children are now: ['human1']\n",
      "Waiting for the others.\n"
     ]
    }
   ],
   "source": [
    "animal2 = Animal('human2', 2181, '/zoo', 2)"
   ]
  },
  {
   "cell_type": "code",
   "execution_count": 7,
   "metadata": {},
   "outputs": [
    {
     "name": "stdout",
     "output_type": "stream",
     "text": [
      "human2 entered.\n",
      "Children are now: ['human2', 'human1']\n",
      "Zoo is full.\n",
      "Children are now: ['human2', 'human1']\n",
      "Zoo is full.\n"
     ]
    }
   ],
   "source": [
    "animal2.enter()"
   ]
  },
  {
   "cell_type": "code",
   "execution_count": 8,
   "metadata": {},
   "outputs": [
    {
     "name": "stdout",
     "output_type": "stream",
     "text": [
      "Children are now: ['human1']Children are now: ['human1']\n",
      "Waiting for the others.\n",
      "\n",
      "Waiting for the others.\n"
     ]
    }
   ],
   "source": [
    "animal2.leave()"
   ]
  },
  {
   "cell_type": "code",
   "execution_count": 9,
   "metadata": {},
   "outputs": [
    {
     "name": "stdout",
     "output_type": "stream",
     "text": [
      "Children are now: []\n",
      "Waiting for the others.\n"
     ]
    }
   ],
   "source": [
    "animal.leave()"
   ]
  },
  {
   "cell_type": "code",
   "execution_count": 10,
   "metadata": {},
   "outputs": [],
   "source": [
    "zk.stop()\n",
    "zk.close()"
   ]
  }
 ],
 "metadata": {
  "kernelspec": {
   "display_name": "Python 3",
   "language": "python",
   "name": "python3"
  },
  "language_info": {
   "codemirror_mode": {
    "name": "ipython",
    "version": 3
   },
   "file_extension": ".py",
   "mimetype": "text/x-python",
   "name": "python",
   "nbconvert_exporter": "python",
   "pygments_lexer": "ipython3",
   "version": "3.7.4"
  }
 },
 "nbformat": 4,
 "nbformat_minor": 4
}
